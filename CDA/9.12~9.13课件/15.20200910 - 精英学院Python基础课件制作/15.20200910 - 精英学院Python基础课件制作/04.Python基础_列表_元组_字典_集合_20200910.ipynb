{
 "cells": [
  {
   "cell_type": "markdown",
   "metadata": {
    "toc": true
   },
   "source": [
    "<h1>Table of Contents<span class=\"tocSkip\"></span></h1>\n",
    "<div class=\"toc\"><ul class=\"toc-item\"><li><span><a href=\"#容器型数据类型\" data-toc-modified-id=\"容器型数据类型-1\"><span class=\"toc-item-num\">1&nbsp;&nbsp;</span>容器型数据类型</a></span></li><li><span><a href=\"#列表\" data-toc-modified-id=\"列表-2\"><span class=\"toc-item-num\">2&nbsp;&nbsp;</span>列表</a></span><ul class=\"toc-item\"><li><span><a href=\"#列表的索引和切片\" data-toc-modified-id=\"列表的索引和切片-2.1\"><span class=\"toc-item-num\">2.1&nbsp;&nbsp;</span>列表的索引和切片</a></span><ul class=\"toc-item\"><li><span><a href=\"#小练习:\" data-toc-modified-id=\"小练习:-2.1.1\"><span class=\"toc-item-num\">2.1.1&nbsp;&nbsp;</span>小练习:</a></span></li><li><span><a href=\"#小练习:-请用索引取出下面list的指定元素：\" data-toc-modified-id=\"小练习:-请用索引取出下面list的指定元素：-2.1.2\"><span class=\"toc-item-num\">2.1.2&nbsp;&nbsp;</span>小练习: 请用索引取出下面list的指定元素：</a></span></li></ul></li><li><span><a href=\"#修改列表的元素值\" data-toc-modified-id=\"修改列表的元素值-2.2\"><span class=\"toc-item-num\">2.2&nbsp;&nbsp;</span>修改列表的元素值</a></span></li><li><span><a href=\"#列表的常用方法\" data-toc-modified-id=\"列表的常用方法-2.3\"><span class=\"toc-item-num\">2.3&nbsp;&nbsp;</span>列表的常用方法</a></span><ul class=\"toc-item\"><li><span><a href=\"#append\" data-toc-modified-id=\"append-2.3.1\"><span class=\"toc-item-num\">2.3.1&nbsp;&nbsp;</span>append</a></span></li><li><span><a href=\"#小练习-使用for循环,把随机生成的数字一次添加到列表中去\" data-toc-modified-id=\"小练习-使用for循环,把随机生成的数字一次添加到列表中去-2.3.2\"><span class=\"toc-item-num\">2.3.2&nbsp;&nbsp;</span>小练习 使用for循环,把随机生成的数字一次添加到列表中去</a></span></li><li><span><a href=\"#extend\" data-toc-modified-id=\"extend-2.3.3\"><span class=\"toc-item-num\">2.3.3&nbsp;&nbsp;</span>extend</a></span></li></ul></li><li><span><a href=\"#自学部分\" data-toc-modified-id=\"自学部分-2.4\"><span class=\"toc-item-num\">2.4&nbsp;&nbsp;</span>自学部分</a></span><ul class=\"toc-item\"><li><span><a href=\"#insert\" data-toc-modified-id=\"insert-2.4.1\"><span class=\"toc-item-num\">2.4.1&nbsp;&nbsp;</span>insert</a></span></li><li><span><a href=\"#查找元素-in-not-in-index-count\" data-toc-modified-id=\"查找元素-in-not-in-index-count-2.4.2\"><span class=\"toc-item-num\">2.4.2&nbsp;&nbsp;</span>查找元素 in not in index count</a></span></li><li><span><a href=\"#删除元素del-pop-remove\" data-toc-modified-id=\"删除元素del-pop-remove-2.4.3\"><span class=\"toc-item-num\">2.4.3&nbsp;&nbsp;</span>删除元素del pop remove</a></span></li><li><span><a href=\"#对元素排序sort-reverse\" data-toc-modified-id=\"对元素排序sort-reverse-2.4.4\"><span class=\"toc-item-num\">2.4.4&nbsp;&nbsp;</span>对元素排序sort reverse</a></span></li><li><span><a href=\"#小练习:\" data-toc-modified-id=\"小练习:-2.4.5\"><span class=\"toc-item-num\">2.4.5&nbsp;&nbsp;</span>小练习:</a></span></li><li><span><a href=\"#小应用:-使用for循环把列表中的元素拼接成字符串,使用逗号分隔\" data-toc-modified-id=\"小应用:-使用for循环把列表中的元素拼接成字符串,使用逗号分隔-2.4.6\"><span class=\"toc-item-num\">2.4.6&nbsp;&nbsp;</span>小应用: 使用for循环把列表中的元素拼接成字符串,使用逗号分隔</a></span></li><li><span><a href=\"#小应用:-分别打印出字符串的索引值和字符串本身\" data-toc-modified-id=\"小应用:-分别打印出字符串的索引值和字符串本身-2.4.7\"><span class=\"toc-item-num\">2.4.7&nbsp;&nbsp;</span>小应用: 分别打印出字符串的索引值和字符串本身</a></span></li><li><span><a href=\"#列表生成式List-Comprehensions(选讲)\" data-toc-modified-id=\"列表生成式List-Comprehensions(选讲)-2.4.8\"><span class=\"toc-item-num\">2.4.8&nbsp;&nbsp;</span>列表生成式List Comprehensions(选讲)</a></span></li></ul></li><li><span><a href=\"#元组(Turple)\" data-toc-modified-id=\"元组(Turple)-2.5\"><span class=\"toc-item-num\">2.5&nbsp;&nbsp;</span>元组(Turple)</a></span><ul class=\"toc-item\"><li><span><a href=\"#tuple的陷阱：\" data-toc-modified-id=\"tuple的陷阱：-2.5.1\"><span class=\"toc-item-num\">2.5.1&nbsp;&nbsp;</span>tuple的陷阱：</a></span></li><li><span><a href=\"#tuple的第二个陷阱(自学部分)\" data-toc-modified-id=\"tuple的第二个陷阱(自学部分)-2.5.2\"><span class=\"toc-item-num\">2.5.2&nbsp;&nbsp;</span>tuple的第二个陷阱(自学部分)</a></span></li></ul></li><li><span><a href=\"#字典dict\" data-toc-modified-id=\"字典dict-2.6\"><span class=\"toc-item-num\">2.6&nbsp;&nbsp;</span>字典dict</a></span><ul class=\"toc-item\"><li><span><a href=\"#创建字典\" data-toc-modified-id=\"创建字典-2.6.1\"><span class=\"toc-item-num\">2.6.1&nbsp;&nbsp;</span>创建字典</a></span></li><li><span><a href=\"#字典赋值或更改\" data-toc-modified-id=\"字典赋值或更改-2.6.2\"><span class=\"toc-item-num\">2.6.2&nbsp;&nbsp;</span>字典赋值或更改</a></span></li><li><span><a href=\"#判断key是否存在\" data-toc-modified-id=\"判断key是否存在-2.6.3\"><span class=\"toc-item-num\">2.6.3&nbsp;&nbsp;</span>判断key是否存在</a></span></li><li><span><a href=\"#删除字典元素\" data-toc-modified-id=\"删除字典元素-2.6.4\"><span class=\"toc-item-num\">2.6.4&nbsp;&nbsp;</span>删除字典元素</a></span></li><li><span><a href=\"#python字典练习题\" data-toc-modified-id=\"python字典练习题-2.6.5\"><span class=\"toc-item-num\">2.6.5&nbsp;&nbsp;</span>python字典练习题</a></span></li><li><span><a href=\"#字典常见操作\" data-toc-modified-id=\"字典常见操作-2.6.6\"><span class=\"toc-item-num\">2.6.6&nbsp;&nbsp;</span>字典常见操作</a></span></li><li><span><a href=\"#遍历字典\" data-toc-modified-id=\"遍历字典-2.6.7\"><span class=\"toc-item-num\">2.6.7&nbsp;&nbsp;</span>遍历字典</a></span></li><li><span><a href=\"#将其他数据处理成字典\" data-toc-modified-id=\"将其他数据处理成字典-2.6.8\"><span class=\"toc-item-num\">2.6.8&nbsp;&nbsp;</span>将其他数据处理成字典</a></span></li><li><span><a href=\"#python字典练习题\" data-toc-modified-id=\"python字典练习题-2.6.9\"><span class=\"toc-item-num\">2.6.9&nbsp;&nbsp;</span>python字典练习题</a></span></li></ul></li><li><span><a href=\"#集合-Set\" data-toc-modified-id=\"集合-Set-2.7\"><span class=\"toc-item-num\">2.7&nbsp;&nbsp;</span>集合 Set</a></span><ul class=\"toc-item\"><li><span><a href=\"#集合用于去重\" data-toc-modified-id=\"集合用于去重-2.7.1\"><span class=\"toc-item-num\">2.7.1&nbsp;&nbsp;</span>集合用于去重</a></span></li><li><span><a href=\"#集合运算(自学部分)\" data-toc-modified-id=\"集合运算(自学部分)-2.7.2\"><span class=\"toc-item-num\">2.7.2&nbsp;&nbsp;</span>集合运算(自学部分)</a></span></li><li><span><a href=\"#小练习:\" data-toc-modified-id=\"小练习:-2.7.3\"><span class=\"toc-item-num\">2.7.3&nbsp;&nbsp;</span>小练习:</a></span></li></ul></li></ul></li></ul></div>"
   ]
  },
  {
   "cell_type": "markdown",
   "metadata": {},
   "source": [
    "# 容器型数据类型"
   ]
  },
  {
   "cell_type": "markdown",
   "metadata": {},
   "source": [
    "<img src=\"http://img.haoxueai.top/markdown/2020-09-10-084627.png\" alt=\"序列\" style=\"zoom:50%;\" />"
   ]
  },
  {
   "cell_type": "markdown",
   "metadata": {},
   "source": [
    "# 列表"
   ]
  },
  {
   "cell_type": "markdown",
   "metadata": {},
   "source": [
    "当我们有一百个变量要储存起来的时候,总不能弄一百个变量啊,怎么办的,用列表."
   ]
  },
  {
   "cell_type": "markdown",
   "metadata": {},
   "source": [
    "我们可以对列表这样去理解, 就把它当成一个大桶, 当我们有一堆东西需要找个地方临时存放在一起, 以便后续进行排序, 筛选,提取等操作时, 就弄一个列表, 先放进去."
   ]
  },
  {
   "cell_type": "code",
   "execution_count": 1,
   "metadata": {
    "collapsed": true
   },
   "outputs": [],
   "source": [
    "s = [1,2,3,4,5,6,7,8,9,10]"
   ]
  },
  {
   "cell_type": "code",
   "execution_count": 3,
   "metadata": {
    "collapsed": true
   },
   "outputs": [],
   "source": [
    "s2 = ['临','兵','斗','者','皆','列','阵','在','前']"
   ]
  },
  {
   "cell_type": "code",
   "execution_count": null,
   "metadata": {
    "collapsed": true
   },
   "outputs": [],
   "source": []
  },
  {
   "cell_type": "markdown",
   "metadata": {},
   "source": [
    "列表中的元素,没有数据类型的限制,可以为任何数据类型"
   ]
  },
  {
   "cell_type": "code",
   "execution_count": 4,
   "metadata": {
    "collapsed": true
   },
   "outputs": [],
   "source": [
    "list1 = [1, 2, 3,'on','go',True,False,None]"
   ]
  },
  {
   "cell_type": "markdown",
   "metadata": {},
   "source": [
    "序列的索引、切片、相加、乘法、判断元素存在否、计算长度、最大小值，这些操作列表都支持。"
   ]
  },
  {
   "cell_type": "markdown",
   "metadata": {},
   "source": [
    "<img src=\"http://img.haoxueai.top/markdown/2020-09-10-085627.png\" alt=\"表\" style=\"zoom:50%;\" />"
   ]
  },
  {
   "cell_type": "markdown",
   "metadata": {},
   "source": [
    "## 列表的索引和切片"
   ]
  },
  {
   "cell_type": "markdown",
   "metadata": {},
   "source": [
    "list是一种有序的集合，可以随时添加和删除其中的元素。\n",
    "也就是说列表是内部元素可变的一个容器mutable"
   ]
  },
  {
   "cell_type": "markdown",
   "metadata": {},
   "source": [
    "列表和字符串一样,是一种可迭代对象.\n",
    "\n",
    "因此可以和字符串一样进行索引和切片.语法方面是一样的."
   ]
  },
  {
   "cell_type": "code",
   "execution_count": 5,
   "metadata": {},
   "outputs": [],
   "source": [
    "l = ['零','一','二','三','四','五','六','七','八','九']"
   ]
  },
  {
   "cell_type": "code",
   "execution_count": 6,
   "metadata": {},
   "outputs": [
    {
     "data": {
      "text/plain": [
       "['八', '五', '二']"
      ]
     },
     "execution_count": 6,
     "metadata": {},
     "output_type": "execute_result"
    }
   ],
   "source": [
    "l[-2:0:-3]"
   ]
  },
  {
   "cell_type": "code",
   "execution_count": 7,
   "metadata": {},
   "outputs": [
    {
     "data": {
      "text/plain": [
       "['一', '三', '五', '七', '九']"
      ]
     },
     "execution_count": 7,
     "metadata": {},
     "output_type": "execute_result"
    }
   ],
   "source": [
    "l[1::2]"
   ]
  },
  {
   "cell_type": "code",
   "execution_count": 8,
   "metadata": {},
   "outputs": [
    {
     "data": {
      "text/plain": [
       "'零'"
      ]
     },
     "execution_count": 8,
     "metadata": {},
     "output_type": "execute_result"
    }
   ],
   "source": [
    "l[0]"
   ]
  },
  {
   "cell_type": "markdown",
   "metadata": {},
   "source": [
    "L[起始位置:终止位置:步长]  # 包含起始位置,不包含终止位置"
   ]
  },
  {
   "cell_type": "markdown",
   "metadata": {},
   "source": [
    "### 小练习:\n",
    "\n",
    "```python\n",
    "\n",
    "L = ['python',\n",
    "     'java',\n",
    "     'C',\n",
    "     'PHP']\n",
    "```\n",
    "\n",
    "从列表中提取出,\n",
    "python,\n",
    "\n",
    "PHP\n",
    "\n",
    "['java','C']\n",
    "\n",
    "['PHP','java']"
   ]
  },
  {
   "cell_type": "code",
   "execution_count": null,
   "metadata": {
    "collapsed": true
   },
   "outputs": [],
   "source": []
  },
  {
   "cell_type": "code",
   "execution_count": null,
   "metadata": {
    "collapsed": true
   },
   "outputs": [],
   "source": []
  },
  {
   "cell_type": "markdown",
   "metadata": {},
   "source": [
    "### 小练习: 请用索引取出下面list的指定元素：\n",
    "\n",
    "```python\n",
    "L = [\n",
    "    ['Apple', 'Google', 'Microsoft'],\n",
    "    ['Java', 'Python', 'Ruby', 'PHP'],\n",
    "    ['Adam', 'Bart', 'Lisa']\n",
    "]\n",
    "```"
   ]
  },
  {
   "cell_type": "code",
   "execution_count": 9,
   "metadata": {
    "collapsed": true
   },
   "outputs": [],
   "source": [
    "# 打印Apple:\n",
    "\n",
    "# 打印Python:\n",
    "\n",
    "# 打印Lisa:\n"
   ]
  },
  {
   "cell_type": "markdown",
   "metadata": {},
   "source": [
    "## 修改列表的元素值\n",
    "\n",
    "通过元素的索引位置来索引元素"
   ]
  },
  {
   "cell_type": "code",
   "execution_count": 19,
   "metadata": {
    "collapsed": true
   },
   "outputs": [],
   "source": [
    "L = ['python',\n",
    "     'java',\n",
    "     'C',\n",
    "     'PHP']"
   ]
  },
  {
   "cell_type": "code",
   "execution_count": 20,
   "metadata": {
    "collapsed": true
   },
   "outputs": [],
   "source": [
    "L[0] = 'R'"
   ]
  },
  {
   "cell_type": "code",
   "execution_count": 21,
   "metadata": {},
   "outputs": [
    {
     "data": {
      "text/plain": [
       "['R', 'java', 'C', 'PHP']"
      ]
     },
     "execution_count": 21,
     "metadata": {},
     "output_type": "execute_result"
    }
   ],
   "source": [
    "L"
   ]
  },
  {
   "cell_type": "code",
   "execution_count": 22,
   "metadata": {
    "collapsed": true
   },
   "outputs": [],
   "source": [
    "L[-1] = \"JavaScript\""
   ]
  },
  {
   "cell_type": "code",
   "execution_count": 23,
   "metadata": {},
   "outputs": [
    {
     "data": {
      "text/plain": [
       "['R', 'java', 'C', 'JavaScript']"
      ]
     },
     "execution_count": 23,
     "metadata": {},
     "output_type": "execute_result"
    }
   ],
   "source": [
    "L"
   ]
  },
  {
   "cell_type": "code",
   "execution_count": 24,
   "metadata": {},
   "outputs": [
    {
     "data": {
      "text/plain": [
       "['java', 'C']"
      ]
     },
     "execution_count": 24,
     "metadata": {},
     "output_type": "execute_result"
    }
   ],
   "source": [
    "L[1:3]"
   ]
  },
  {
   "cell_type": "code",
   "execution_count": 25,
   "metadata": {
    "collapsed": true
   },
   "outputs": [],
   "source": [
    "L[1:3] = 'CSS','HTML'"
   ]
  },
  {
   "cell_type": "code",
   "execution_count": 26,
   "metadata": {},
   "outputs": [
    {
     "data": {
      "text/plain": [
       "['R', 'CSS', 'HTML', 'JavaScript']"
      ]
     },
     "execution_count": 26,
     "metadata": {},
     "output_type": "execute_result"
    }
   ],
   "source": [
    "L"
   ]
  },
  {
   "cell_type": "code",
   "execution_count": null,
   "metadata": {
    "collapsed": true
   },
   "outputs": [],
   "source": []
  },
  {
   "cell_type": "markdown",
   "metadata": {},
   "source": [
    "## 列表的常用方法"
   ]
  },
  {
   "cell_type": "markdown",
   "metadata": {},
   "source": [
    "**添加元素**"
   ]
  },
  {
   "cell_type": "markdown",
   "metadata": {},
   "source": [
    "### append\n",
    "\n",
    "通过append可以向列表添加元素"
   ]
  },
  {
   "cell_type": "code",
   "execution_count": 81,
   "metadata": {},
   "outputs": [
    {
     "data": {
      "text/plain": [
       "['Superman', 'Hulk', 'Spiderman', 'Leifengxia']"
      ]
     },
     "execution_count": 81,
     "metadata": {},
     "output_type": "execute_result"
    }
   ],
   "source": [
    "L = ['Superman','Hulk','Spiderman']\n",
    "L.append('Leifengxia')\n",
    "L"
   ]
  },
  {
   "cell_type": "code",
   "execution_count": null,
   "metadata": {
    "collapsed": true
   },
   "outputs": [],
   "source": []
  },
  {
   "cell_type": "markdown",
   "metadata": {},
   "source": [
    "### 小练习 使用for循环,把随机生成的数字一次添加到列表中去"
   ]
  },
  {
   "cell_type": "code",
   "execution_count": null,
   "metadata": {
    "collapsed": true
   },
   "outputs": [],
   "source": []
  },
  {
   "cell_type": "code",
   "execution_count": null,
   "metadata": {
    "collapsed": true
   },
   "outputs": [],
   "source": []
  },
  {
   "cell_type": "code",
   "execution_count": null,
   "metadata": {
    "collapsed": true
   },
   "outputs": [],
   "source": []
  },
  {
   "cell_type": "markdown",
   "metadata": {},
   "source": [
    "### extend\n",
    "\n",
    "通过extend可以将另一个集合中的元素逐一添加到列表中"
   ]
  },
  {
   "cell_type": "code",
   "execution_count": 29,
   "metadata": {
    "collapsed": true
   },
   "outputs": [],
   "source": [
    "a = [1,2]\n",
    "b = [3,4]"
   ]
  },
  {
   "cell_type": "code",
   "execution_count": 30,
   "metadata": {},
   "outputs": [
    {
     "data": {
      "text/plain": [
       "[1, 2, [3, 4]]"
      ]
     },
     "execution_count": 30,
     "metadata": {},
     "output_type": "execute_result"
    }
   ],
   "source": [
    "a.append(b)\n",
    "a"
   ]
  },
  {
   "cell_type": "code",
   "execution_count": 27,
   "metadata": {
    "collapsed": true
   },
   "outputs": [],
   "source": [
    "a = [1,2]\n",
    "b = [3,4]"
   ]
  },
  {
   "cell_type": "code",
   "execution_count": 28,
   "metadata": {},
   "outputs": [
    {
     "data": {
      "text/plain": [
       "[1, 2, 3, 4]"
      ]
     },
     "execution_count": 28,
     "metadata": {},
     "output_type": "execute_result"
    }
   ],
   "source": [
    "a.extend(b)\n",
    "a"
   ]
  },
  {
   "cell_type": "code",
   "execution_count": null,
   "metadata": {
    "collapsed": true
   },
   "outputs": [],
   "source": []
  },
  {
   "cell_type": "code",
   "execution_count": null,
   "metadata": {
    "collapsed": true
   },
   "outputs": [],
   "source": []
  },
  {
   "cell_type": "code",
   "execution_count": null,
   "metadata": {
    "collapsed": true
   },
   "outputs": [],
   "source": []
  },
  {
   "cell_type": "markdown",
   "metadata": {},
   "source": [
    "## 自学部分"
   ]
  },
  {
   "cell_type": "markdown",
   "metadata": {},
   "source": [
    "### insert\n",
    "\n",
    "insert(index, object) 在指定位置index前插入元素object"
   ]
  },
  {
   "cell_type": "code",
   "execution_count": 32,
   "metadata": {},
   "outputs": [
    {
     "data": {
      "text/plain": [
       "['插', '入', '元', '素']"
      ]
     },
     "execution_count": 32,
     "metadata": {},
     "output_type": "execute_result"
    }
   ],
   "source": [
    "a = ['插','入','素']\n",
    "a.insert( 2,'元')\n",
    "a\n"
   ]
  },
  {
   "cell_type": "code",
   "execution_count": null,
   "metadata": {
    "collapsed": true
   },
   "outputs": [],
   "source": []
  },
  {
   "cell_type": "code",
   "execution_count": null,
   "metadata": {
    "collapsed": true
   },
   "outputs": [],
   "source": []
  },
  {
   "cell_type": "code",
   "execution_count": null,
   "metadata": {
    "collapsed": true
   },
   "outputs": [],
   "source": []
  },
  {
   "cell_type": "markdown",
   "metadata": {},
   "source": [
    "### 查找元素 in not in index count"
   ]
  },
  {
   "cell_type": "code",
   "execution_count": 33,
   "metadata": {
    "collapsed": true,
    "scrolled": false
   },
   "outputs": [],
   "source": [
    "test = ['插', '入', '元', '素']"
   ]
  },
  {
   "cell_type": "code",
   "execution_count": 34,
   "metadata": {},
   "outputs": [
    {
     "data": {
      "text/plain": [
       "True"
      ]
     },
     "execution_count": 34,
     "metadata": {},
     "output_type": "execute_result"
    }
   ],
   "source": [
    "'入' in test"
   ]
  },
  {
   "cell_type": "code",
   "execution_count": 35,
   "metadata": {},
   "outputs": [
    {
     "data": {
      "text/plain": [
       "False"
      ]
     },
     "execution_count": 35,
     "metadata": {},
     "output_type": "execute_result"
    }
   ],
   "source": [
    "'元' not in test"
   ]
  },
  {
   "cell_type": "code",
   "execution_count": 36,
   "metadata": {},
   "outputs": [
    {
     "data": {
      "text/plain": [
       "1"
      ]
     },
     "execution_count": 36,
     "metadata": {},
     "output_type": "execute_result"
    }
   ],
   "source": [
    "test.index('入')"
   ]
  },
  {
   "cell_type": "code",
   "execution_count": 37,
   "metadata": {},
   "outputs": [
    {
     "data": {
      "text/plain": [
       "1"
      ]
     },
     "execution_count": 37,
     "metadata": {},
     "output_type": "execute_result"
    }
   ],
   "source": [
    "test.count('元')"
   ]
  },
  {
   "cell_type": "code",
   "execution_count": null,
   "metadata": {
    "collapsed": true
   },
   "outputs": [],
   "source": []
  },
  {
   "cell_type": "markdown",
   "metadata": {},
   "source": [
    "### 删除元素del pop remove"
   ]
  },
  {
   "cell_type": "markdown",
   "metadata": {},
   "source": [
    "del：根据下标进行删除\n",
    "pop：删除最后一个元素\n",
    "remove：根据元素的值进行删除"
   ]
  },
  {
   "cell_type": "code",
   "execution_count": 38,
   "metadata": {
    "collapsed": true
   },
   "outputs": [],
   "source": [
    "test_del = ['能','不','能','给','我','一','首','歌','的','时间']"
   ]
  },
  {
   "cell_type": "code",
   "execution_count": null,
   "metadata": {
    "collapsed": true
   },
   "outputs": [],
   "source": []
  },
  {
   "cell_type": "code",
   "execution_count": 97,
   "metadata": {},
   "outputs": [
    {
     "data": {
      "text/plain": [
       "['加勒比海盗', '第一滴血', '指环王', '霍比特人', '速度与激情']"
      ]
     },
     "execution_count": 97,
     "metadata": {},
     "output_type": "execute_result"
    }
   ],
   "source": [
    "movieName = ['加勒比海盗','骇客帝国','第一滴血','指环王','霍比特人','速度与激情']\n",
    "movieName.remove('骇客帝国')\n",
    "movieName"
   ]
  },
  {
   "cell_type": "code",
   "execution_count": null,
   "metadata": {
    "collapsed": true
   },
   "outputs": [],
   "source": []
  },
  {
   "cell_type": "code",
   "execution_count": null,
   "metadata": {
    "collapsed": true
   },
   "outputs": [],
   "source": []
  },
  {
   "cell_type": "markdown",
   "metadata": {},
   "source": [
    "### 对元素排序sort reverse"
   ]
  },
  {
   "cell_type": "markdown",
   "metadata": {
    "collapsed": true
   },
   "source": [
    "排序(sort, reverse)\n",
    "\n",
    "sort方法是将list按特定顺序重新排列，默认为由小到大，参数reverse=True可改为倒序，由大到小。\n",
    "\n",
    "reverse方法是将list逆置。"
   ]
  },
  {
   "cell_type": "code",
   "execution_count": 99,
   "metadata": {},
   "outputs": [
    {
     "data": {
      "text/plain": [
       "[1, 4, 2, 3]"
      ]
     },
     "execution_count": 99,
     "metadata": {},
     "output_type": "execute_result"
    },
    {
     "data": {
      "text/plain": [
       "[3, 2, 4, 1]"
      ]
     },
     "execution_count": 99,
     "metadata": {},
     "output_type": "execute_result"
    }
   ],
   "source": [
    "a = [1, 4, 2, 3]\n",
    "a\n",
    "a.reverse()\n",
    "a"
   ]
  },
  {
   "cell_type": "code",
   "execution_count": 102,
   "metadata": {},
   "outputs": [
    {
     "data": {
      "text/plain": [
       "[1, 4, 2, 3]"
      ]
     },
     "execution_count": 102,
     "metadata": {},
     "output_type": "execute_result"
    },
    {
     "data": {
      "text/plain": [
       "[1, 2, 3, 4]"
      ]
     },
     "execution_count": 102,
     "metadata": {},
     "output_type": "execute_result"
    },
    {
     "data": {
      "text/plain": [
       "[4, 3, 2, 1]"
      ]
     },
     "execution_count": 102,
     "metadata": {},
     "output_type": "execute_result"
    }
   ],
   "source": [
    "a = [1, 4, 2, 3]\n",
    "a\n",
    "a.sort()\n",
    "a\n",
    "a.sort(reverse=True)\n",
    "a"
   ]
  },
  {
   "cell_type": "code",
   "execution_count": null,
   "metadata": {
    "collapsed": true
   },
   "outputs": [],
   "source": []
  },
  {
   "cell_type": "code",
   "execution_count": null,
   "metadata": {
    "collapsed": true
   },
   "outputs": [],
   "source": []
  },
  {
   "cell_type": "code",
   "execution_count": null,
   "metadata": {
    "collapsed": true
   },
   "outputs": [],
   "source": []
  },
  {
   "cell_type": "markdown",
   "metadata": {},
   "source": [
    "### 小练习:\n",
    "\n",
    "有以下列表\n",
    "\n",
    "L = ['最怕空气突然安静','最怕朋友突然的关心','最怕回忆','突然翻滚绞痛着','不平息','最怕忽然','听到你的消息']\n",
    "\n",
    "M = ['想念如果会有声音','不愿那是悲伤的哭泣','终于让自己属于','我自己']\n",
    "\n",
    "1. 将M列表中的歌词合并到L中,使歌词串联在一起.\n",
    "\n",
    "2. 在列表中插入缺少的一句歌词,使顺序连续.\n",
    "\n",
    "3. 查找列表中是否含有元素\"最怕回忆\"\n",
    "\n",
    "4. 删除列表中的\"最怕回忆\"\n",
    "\n",
    "5. 将歌词拼接成一个字符串\n",
    "\n",
    "5. 将歌词翻转,使用join方法"
   ]
  },
  {
   "cell_type": "code",
   "execution_count": null,
   "metadata": {
    "collapsed": true
   },
   "outputs": [],
   "source": []
  },
  {
   "cell_type": "code",
   "execution_count": null,
   "metadata": {
    "collapsed": true
   },
   "outputs": [],
   "source": []
  },
  {
   "cell_type": "markdown",
   "metadata": {},
   "source": [
    "### 小应用: 使用for循环把列表中的元素拼接成字符串,使用逗号分隔"
   ]
  },
  {
   "cell_type": "code",
   "execution_count": 40,
   "metadata": {
    "collapsed": true
   },
   "outputs": [],
   "source": [
    "names = ['raymond', 'rachel', 'matthew', 'roger',\n",
    "         'betty', 'melissa', 'judith', 'charlie']"
   ]
  },
  {
   "cell_type": "code",
   "execution_count": null,
   "metadata": {
    "collapsed": true
   },
   "outputs": [],
   "source": []
  },
  {
   "cell_type": "code",
   "execution_count": null,
   "metadata": {
    "collapsed": true
   },
   "outputs": [],
   "source": []
  },
  {
   "cell_type": "markdown",
   "metadata": {
    "collapsed": true
   },
   "source": [
    "### 小应用: 分别打印出字符串的索引值和字符串本身"
   ]
  },
  {
   "cell_type": "code",
   "execution_count": 45,
   "metadata": {},
   "outputs": [
    {
     "name": "stdout",
     "output_type": "stream",
     "text": [
      "0 ---> red\n",
      "1 ---> green\n",
      "2 ---> blue\n",
      "3 ---> yellow\n"
     ]
    }
   ],
   "source": [
    "colors = ['red', 'green', 'blue', 'yellow']\n",
    "\n",
    "n = 0\n",
    "for i in colors:\n",
    "    print(n, \"--->\", colors[n])\n",
    "    n+=1"
   ]
  },
  {
   "cell_type": "code",
   "execution_count": 46,
   "metadata": {},
   "outputs": [
    {
     "name": "stdout",
     "output_type": "stream",
     "text": [
      "0 ----> red\n",
      "1 ----> green\n",
      "2 ----> blue\n",
      "3 ----> yellow\n"
     ]
    }
   ],
   "source": [
    "for i in range(len(colors)):\n",
    "    print(i , \"---->\", colors[i])"
   ]
  },
  {
   "cell_type": "code",
   "execution_count": 47,
   "metadata": {},
   "outputs": [
    {
     "name": "stdout",
     "output_type": "stream",
     "text": [
      "0 ----> red\n",
      "1 ----> green\n",
      "2 ----> blue\n",
      "3 ----> yellow\n"
     ]
    }
   ],
   "source": [
    "for i, color in enumerate(colors):\n",
    "    print(i, \"---->\", color)"
   ]
  },
  {
   "cell_type": "markdown",
   "metadata": {},
   "source": [
    "### 列表生成式List Comprehensions(选讲)"
   ]
  },
  {
   "cell_type": "markdown",
   "metadata": {},
   "source": [
    "列表生成式属于一个代码的压缩功能, 可以把多行代码压缩在一行中, 但并没有新增的功能.\n",
    "\n",
    "因此不掌握也可以."
   ]
  },
  {
   "cell_type": "markdown",
   "metadata": {},
   "source": [
    "如果我们想要生成一个由1 - 10的数字组成的列表,都有什么办法呢?"
   ]
  },
  {
   "cell_type": "code",
   "execution_count": 112,
   "metadata": {},
   "outputs": [
    {
     "data": {
      "text/plain": [
       "[1, 2, 3, 4, 5, 6, 7, 8, 9, 10, 1, 2, 3, 4, 5, 6, 7, 8, 9, 10]"
      ]
     },
     "execution_count": 112,
     "metadata": {},
     "output_type": "execute_result"
    }
   ],
   "source": [
    "a = [1,2,3,4,5,6,7,8,9,10]\n",
    "a"
   ]
  },
  {
   "cell_type": "code",
   "execution_count": 106,
   "metadata": {},
   "outputs": [
    {
     "data": {
      "text/plain": [
       "[1, 2, 3, 4, 5, 6, 7, 8, 9, 10]"
      ]
     },
     "execution_count": 106,
     "metadata": {},
     "output_type": "execute_result"
    }
   ],
   "source": [
    "list(range(1,11))"
   ]
  },
  {
   "cell_type": "code",
   "execution_count": 107,
   "metadata": {},
   "outputs": [
    {
     "data": {
      "text/plain": [
       "[1, 2, 3, 4, 5, 6, 7, 8, 9, 10]"
      ]
     },
     "execution_count": 107,
     "metadata": {},
     "output_type": "execute_result"
    }
   ],
   "source": [
    "L = []\n",
    "for i in range(1,11):\n",
    "    L.append(i)\n",
    "L"
   ]
  },
  {
   "cell_type": "code",
   "execution_count": 114,
   "metadata": {},
   "outputs": [
    {
     "data": {
      "text/plain": [
       "[1, 2, 3, 4, 5, 6, 7, 8, 9, 10]"
      ]
     },
     "execution_count": 114,
     "metadata": {},
     "output_type": "execute_result"
    }
   ],
   "source": [
    "# 把上面的循环代码整合一下\n",
    "[关于i的表达式 for i in range(1,11) ]"
   ]
  },
  {
   "cell_type": "code",
   "execution_count": 116,
   "metadata": {},
   "outputs": [
    {
     "data": {
      "text/plain": [
       "[1, 4, 9, 16, 25, 36, 49, 64, 81, 100]"
      ]
     },
     "execution_count": 116,
     "metadata": {},
     "output_type": "execute_result"
    }
   ],
   "source": [
    "[x**2 for x in range(1,11)]"
   ]
  },
  {
   "cell_type": "code",
   "execution_count": 117,
   "metadata": {},
   "outputs": [
    {
     "data": {
      "text/plain": [
       "[2, 4, 6, 8, 10]"
      ]
     },
     "execution_count": 117,
     "metadata": {},
     "output_type": "execute_result"
    }
   ],
   "source": [
    "# 生成偶数序列\n",
    "[i for i in range(1,11) if i % 2 == 0]"
   ]
  },
  {
   "cell_type": "code",
   "execution_count": 80,
   "metadata": {
    "collapsed": true
   },
   "outputs": [],
   "source": [
    "# 例如, 我想生成一个 0到10 的平方组成的列表 1, 4, 9, 16\n",
    " # 注意运行之前一定要i\n",
    "result = []"
   ]
  },
  {
   "cell_type": "code",
   "execution_count": 81,
   "metadata": {},
   "outputs": [
    {
     "data": {
      "text/plain": [
       "[0, 1, 4, 9, 16, 25, 36, 49, 64, 81, 100]"
      ]
     },
     "execution_count": 81,
     "metadata": {},
     "output_type": "execute_result"
    }
   ],
   "source": [
    "\n",
    "for i in range(11):\n",
    "    result.append(i**2)\n",
    "result"
   ]
  },
  {
   "cell_type": "code",
   "execution_count": 86,
   "metadata": {},
   "outputs": [
    {
     "data": {
      "text/plain": [
       "[0, 1, 4, 9, 16, 25, 36, 49, 64, 81, 100]"
      ]
     },
     "execution_count": 86,
     "metadata": {},
     "output_type": "execute_result"
    }
   ],
   "source": [
    "[i**2 for i in range(11)]"
   ]
  },
  {
   "cell_type": "code",
   "execution_count": 77,
   "metadata": {},
   "outputs": [
    {
     "data": {
      "text/plain": [
       "[0, 1, 4, 9, 16, 25, 36, 49, 64, 81, 100]"
      ]
     },
     "execution_count": 77,
     "metadata": {},
     "output_type": "execute_result"
    }
   ],
   "source": [
    "# result.extend([4, 5, 6])\n",
    "result"
   ]
  },
  {
   "cell_type": "code",
   "execution_count": 70,
   "metadata": {
    "collapsed": true
   },
   "outputs": [],
   "source": [
    "result.append([4, 5, 6])"
   ]
  },
  {
   "cell_type": "code",
   "execution_count": 119,
   "metadata": {
    "collapsed": true
   },
   "outputs": [],
   "source": [
    "L1 = ['Hello', 'World', 18, 'Apple', None]"
   ]
  },
  {
   "cell_type": "markdown",
   "metadata": {
    "collapsed": true
   },
   "source": [
    "当列表判断式里面有判断语句, 如果只有if,放在for 循环后面\n",
    "\n",
    "如果,有if ++ else语句,整个放在for 前边"
   ]
  },
  {
   "cell_type": "code",
   "execution_count": null,
   "metadata": {
    "collapsed": true
   },
   "outputs": [],
   "source": [
    "L2 = [i.lower() if isinstance(i ,str) else i for i in L1 ]\n",
    "L2"
   ]
  },
  {
   "cell_type": "code",
   "execution_count": null,
   "metadata": {
    "collapsed": true
   },
   "outputs": [],
   "source": []
  },
  {
   "cell_type": "markdown",
   "metadata": {},
   "source": [
    "## 元组(Turple)"
   ]
  },
  {
   "cell_type": "markdown",
   "metadata": {},
   "source": [
    "Python的元组与列表类似，不同之处在于元组的元素不能修改。元组使用小括号，列表使用方括号。"
   ]
  },
  {
   "cell_type": "code",
   "execution_count": 48,
   "metadata": {},
   "outputs": [
    {
     "data": {
      "text/plain": [
       "('et', 77, 99.9, 'OK')"
      ]
     },
     "execution_count": 48,
     "metadata": {},
     "output_type": "execute_result"
    }
   ],
   "source": [
    "aTuple = ('et',77,99.9,'OK')\n",
    "aTuple"
   ]
  },
  {
   "cell_type": "code",
   "execution_count": 49,
   "metadata": {},
   "outputs": [
    {
     "data": {
      "text/plain": [
       "'et'"
      ]
     },
     "execution_count": 49,
     "metadata": {},
     "output_type": "execute_result"
    }
   ],
   "source": [
    "aTuple[0]"
   ]
  },
  {
   "cell_type": "code",
   "execution_count": 50,
   "metadata": {},
   "outputs": [
    {
     "data": {
      "text/plain": [
       "77"
      ]
     },
     "execution_count": 50,
     "metadata": {},
     "output_type": "execute_result"
    }
   ],
   "source": [
    "aTuple[1]"
   ]
  },
  {
   "cell_type": "code",
   "execution_count": 51,
   "metadata": {},
   "outputs": [
    {
     "ename": "TypeError",
     "evalue": "'tuple' object does not support item assignment",
     "output_type": "error",
     "traceback": [
      "\u001b[1;31m---------------------------------------------------------------------------\u001b[0m",
      "\u001b[1;31mTypeError\u001b[0m                                 Traceback (most recent call last)",
      "\u001b[1;32m<ipython-input-51-c223eea6bf0f>\u001b[0m in \u001b[0;36m<module>\u001b[1;34m()\u001b[0m\n\u001b[0;32m      1\u001b[0m \u001b[1;31m# 元组的元素时不能修改的\u001b[0m\u001b[1;33m\u001b[0m\u001b[1;33m\u001b[0m\u001b[1;33m\u001b[0m\u001b[0m\n\u001b[1;32m----> 2\u001b[1;33m \u001b[0maTuple\u001b[0m\u001b[1;33m[\u001b[0m\u001b[1;36m0\u001b[0m\u001b[1;33m]\u001b[0m \u001b[1;33m=\u001b[0m \u001b[1;36m1\u001b[0m\u001b[1;33m\u001b[0m\u001b[1;33m\u001b[0m\u001b[0m\n\u001b[0m",
      "\u001b[1;31mTypeError\u001b[0m: 'tuple' object does not support item assignment"
     ]
    }
   ],
   "source": [
    "# 元组的元素时不能修改的\n",
    "aTuple[0] = 1"
   ]
  },
  {
   "cell_type": "markdown",
   "metadata": {},
   "source": [
    "但是如果我这样写"
   ]
  },
  {
   "cell_type": "code",
   "execution_count": 52,
   "metadata": {},
   "outputs": [
    {
     "data": {
      "text/plain": [
       "('et', 77, 99.9)"
      ]
     },
     "execution_count": 52,
     "metadata": {},
     "output_type": "execute_result"
    }
   ],
   "source": [
    "aTuple = aTuple[:3]\n",
    "aTuple\n",
    "# 元组不是不能修改吗,这里为什么被修改了呢?"
   ]
  },
  {
   "cell_type": "markdown",
   "metadata": {
    "collapsed": true
   },
   "source": [
    "现在，aTuple这个tuple不能变了，它也没有append()，insert()这样的方法。其他获取元素的方法和list是一样的，你可以正常地使用aTuple[0]，aTuple[-1]，但不能赋值成另外的元素。\n",
    "\n",
    "不可变的tuple有什么意义？因为tuple不可变，所以代码更安全。\n",
    "\n",
    "如果可能，能用tuple代替list就尽量用tuple。"
   ]
  },
  {
   "cell_type": "markdown",
   "metadata": {},
   "source": [
    "### tuple的陷阱：\n",
    "\n",
    "当你定义一个tuple时，在定义的时候，tuple的元素就必须被确定下来，比如："
   ]
  },
  {
   "cell_type": "code",
   "execution_count": 1,
   "metadata": {},
   "outputs": [
    {
     "data": {
      "text/plain": [
       "(1, 2)"
      ]
     },
     "execution_count": 1,
     "metadata": {},
     "output_type": "execute_result"
    }
   ],
   "source": [
    "tp = (1, 2)\n",
    "tp"
   ]
  },
  {
   "cell_type": "code",
   "execution_count": 3,
   "metadata": {},
   "outputs": [
    {
     "data": {
      "text/plain": [
       "(1, 2)"
      ]
     },
     "execution_count": 3,
     "metadata": {},
     "output_type": "execute_result"
    }
   ],
   "source": [
    "tp2 = ()\n",
    "tp2 = (1, 2)\n",
    "tp2"
   ]
  },
  {
   "cell_type": "code",
   "execution_count": 5,
   "metadata": {},
   "outputs": [
    {
     "data": {
      "text/plain": [
       "1"
      ]
     },
     "execution_count": 5,
     "metadata": {},
     "output_type": "execute_result"
    }
   ],
   "source": [
    "#这样定义出来的是数字, 而不是元组\n",
    "tp3 = (1)\n",
    "tp3"
   ]
  },
  {
   "cell_type": "code",
   "execution_count": 6,
   "metadata": {},
   "outputs": [
    {
     "data": {
      "text/plain": [
       "(1,)"
      ]
     },
     "execution_count": 6,
     "metadata": {},
     "output_type": "execute_result"
    }
   ],
   "source": [
    "# 如果想要定义一个元素的元组\n",
    "tp4 = (1,)\n",
    "tp4"
   ]
  },
  {
   "cell_type": "markdown",
   "metadata": {},
   "source": [
    "### tuple的第二个陷阱(自学部分)"
   ]
  },
  {
   "cell_type": "code",
   "execution_count": 7,
   "metadata": {},
   "outputs": [
    {
     "data": {
      "text/plain": [
       "('a', 'b', ['A', 'B'])"
      ]
     },
     "execution_count": 7,
     "metadata": {},
     "output_type": "execute_result"
    }
   ],
   "source": [
    "tp5 = ('a', 'b', ['A', 'B'])\n",
    "tp5"
   ]
  },
  {
   "cell_type": "code",
   "execution_count": 8,
   "metadata": {},
   "outputs": [
    {
     "data": {
      "text/plain": [
       "('a', 'b', ['X', 'Y'])"
      ]
     },
     "execution_count": 8,
     "metadata": {},
     "output_type": "execute_result"
    }
   ],
   "source": [
    "tp5[2][0] = 'X'\n",
    "tp5[2][1] = 'Y'\n",
    "tp5"
   ]
  },
  {
   "attachments": {
    "_auto_0": {
     "image/png": "[encoded data removed]"
    }
   },
   "cell_type": "markdown",
   "metadata": {},
   "source": [
    "![_auto_0](attachment:_auto_0)"
   ]
  },
  {
   "attachments": {
    "_auto_0": {
     "image/png": "[encoded data removed]"
    }
   },
   "cell_type": "markdown",
   "metadata": {},
   "source": [
    "当我们把list的元素'A'和'B'修改为'X'和'Y'后，tuple变为：\n",
    "![_auto_0](attachment:_auto_0)"
   ]
  },
  {
   "cell_type": "markdown",
   "metadata": {},
   "source": [
    "表面上看，tuple的元素确实变了，但其实变的不是tuple的元素，而是list的元素。tuple一开始指向的list并没有改成别的list，所以，tuple所谓的“不变”是说，tuple的每个元素，指向永远不变。即指向'a'，就不能改成指向'b'，指向一个list，就不能改成指向其他对象，但指向的这个list本身是可变的！"
   ]
  },
  {
   "cell_type": "code",
   "execution_count": null,
   "metadata": {
    "collapsed": true
   },
   "outputs": [],
   "source": []
  },
  {
   "cell_type": "markdown",
   "metadata": {
    "collapsed": true
   },
   "source": [
    "## 字典dict\n",
    "\n",
    "Python内置了字典：dict的支持，dict全称dictionary，在其他语言中也称为map，使用键-值（key-value）存储，具有极快的查找速度。\n",
    "\n",
    "举个例子，FIFA18球员能力值排名, 我们要根据球员的名字查找对应的成绩，如果用list实现，需要两个list：\n",
    "```python\n",
    "names = ['克里斯蒂亚诺·罗纳尔多', '里奥·梅西', '内马尔','路易斯·苏亚雷斯', '曼努埃尔·诺伊尔', '罗伯特·莱万多夫斯基', '塞尔吉奥·拉莫斯' ]\n",
    "scores = [94, 93, 92, 92, 92, 91, 90]\n",
    "```"
   ]
  },
  {
   "cell_type": "markdown",
   "metadata": {},
   "source": [
    "给你一个球员名字，要查找对应的成绩，就先要在names中找到对应的位置，再从scores取出对应的评分，list越长，耗时越长。"
   ]
  },
  {
   "cell_type": "code",
   "execution_count": 65,
   "metadata": {},
   "outputs": [
    {
     "name": "stdout",
     "output_type": "stream",
     "text": [
      "92\n"
     ]
    }
   ],
   "source": [
    "names = ['罗纳尔多', '梅西', '内马尔','苏亚雷斯', '诺伊尔', '莱万多夫斯基', '拉莫斯' ]\n",
    "scores = [94, 93, 92, 92, 92, 91, 90]\n",
    "\n",
    "for i in range(len(names)):\n",
    "    if names[i]==\"内马尔\":\n",
    "        print(scores[i])"
   ]
  },
  {
   "cell_type": "markdown",
   "metadata": {},
   "source": [
    "### 创建字典\n",
    "\n",
    "字典由键（key）和对应值（value）成对组成。字典也被称作关联数组或哈希表。基本语法如下：\n",
    "\n",
    "dict = {'Alice': '2341', 'Beth': '9102', 'Cecil': '3258'}\n",
    "\n",
    "注意：\n",
    "每个键与值用冒号隔开（:），每对用逗号，每对用逗号分割，整体放在花括号中（{}）。\n",
    "键必须独一无二，但值则不必。\n",
    "\n",
    "值可以取任何数据类型，但必须是不可变的，如字符串，数组或元组。"
   ]
  },
  {
   "cell_type": "markdown",
   "metadata": {
    "collapsed": true
   },
   "source": [
    "如果用dict实现，只需要一个“名字”-“评分”的对照表，直接根据名字查找评分，无论这个表有多大，查找速度都不会变慢。用Python写一个dict如下"
   ]
  },
  {
   "cell_type": "code",
   "execution_count": 54,
   "metadata": {
    "collapsed": true
   },
   "outputs": [],
   "source": [
    "d = {'C罗纳尔多': 94, '梅西': 93, '内马尔': 92, '苏亚雷斯':92, \n",
    "     '诺伊尔':92, '莱万多夫斯基':91, '拉莫斯':90}"
   ]
  },
  {
   "cell_type": "code",
   "execution_count": 55,
   "metadata": {},
   "outputs": [
    {
     "data": {
      "text/plain": [
       "dict"
      ]
     },
     "execution_count": 55,
     "metadata": {},
     "output_type": "execute_result"
    }
   ],
   "source": [
    "type(d)"
   ]
  },
  {
   "cell_type": "code",
   "execution_count": 56,
   "metadata": {},
   "outputs": [
    {
     "data": {
      "text/plain": [
       "7"
      ]
     },
     "execution_count": 56,
     "metadata": {},
     "output_type": "execute_result"
    }
   ],
   "source": [
    "len(d)"
   ]
  },
  {
   "cell_type": "code",
   "execution_count": 15,
   "metadata": {},
   "outputs": [
    {
     "data": {
      "text/plain": [
       "92"
      ]
     },
     "execution_count": 15,
     "metadata": {},
     "output_type": "execute_result"
    }
   ],
   "source": [
    "d['内马尔']"
   ]
  },
  {
   "cell_type": "code",
   "execution_count": null,
   "metadata": {
    "collapsed": true
   },
   "outputs": [],
   "source": []
  },
  {
   "cell_type": "markdown",
   "metadata": {},
   "source": [
    "我们平时使用字典的时候, 是在字典的索引表里（比如部首表）查这个字对应的页码，然后直接翻到该页，找到这个字。无论找哪个字，这种查找速度都非常快，不会随着字典大小的增加而变慢。\n",
    "\n",
    "dict就是这种实现方式，给定一个名字，比如'梅西'，dict在内部就可以直接计算出梅西对应的存放评分的“页码”，也就是93这个数字存放的内存地址，直接取出来，速度非常快。\n",
    "\n",
    "你可以猜到，这种key-value存储方式，在放进去的时候，必须根据key算出value的存放位置，这样，取的时候才能根据key直接拿到value。\n",
    "\n",
    "把数据放入dict的方法，除了初始化时指定外，还可以通过key放入："
   ]
  },
  {
   "cell_type": "markdown",
   "metadata": {},
   "source": [
    "### 字典赋值或更改\n",
    "\n",
    "```python\n",
    "d['key'] = value  #key 存在即修改，key不存在即新增\n",
    "d.setdefault('key',value)   #只能新增\n",
    "```"
   ]
  },
  {
   "cell_type": "code",
   "execution_count": 16,
   "metadata": {},
   "outputs": [
    {
     "data": {
      "text/plain": [
       "{'C罗纳尔多': 94,\n",
       " '克罗斯': 90,\n",
       " '内马尔': 92,\n",
       " '拉莫斯': 90,\n",
       " '梅西': 93,\n",
       " '苏亚雷斯': 92,\n",
       " '莱万多夫斯基': 91,\n",
       " '诺伊尔': 92}"
      ]
     },
     "execution_count": 16,
     "metadata": {},
     "output_type": "execute_result"
    }
   ],
   "source": [
    "d['克罗斯'] = 90\n",
    "d['克罗斯']\n",
    "d"
   ]
  },
  {
   "cell_type": "code",
   "execution_count": 35,
   "metadata": {
    "collapsed": true
   },
   "outputs": [],
   "source": [
    "d[\"李毅\"] = 66"
   ]
  },
  {
   "cell_type": "code",
   "execution_count": 36,
   "metadata": {},
   "outputs": [
    {
     "data": {
      "text/plain": [
       "{'C罗纳尔多': 94,\n",
       " '内马尔': 92,\n",
       " '拉莫斯': 90,\n",
       " '李毅': 66,\n",
       " '梅西': 93,\n",
       " '苏亚雷斯': 92,\n",
       " '莱万多夫斯基': 91,\n",
       " '诺伊尔': 92}"
      ]
     },
     "execution_count": 36,
     "metadata": {},
     "output_type": "execute_result"
    }
   ],
   "source": [
    "d"
   ]
  },
  {
   "cell_type": "code",
   "execution_count": null,
   "metadata": {
    "collapsed": true
   },
   "outputs": [],
   "source": []
  },
  {
   "cell_type": "code",
   "execution_count": 10,
   "metadata": {},
   "outputs": [
    {
     "data": {
      "text/plain": [
       "88"
      ]
     },
     "execution_count": 10,
     "metadata": {},
     "output_type": "execute_result"
    }
   ],
   "source": [
    "# 一个key只能对应一个value，所以，多次对一个key放入value，后面的值会把前面的值冲掉：\n",
    "d['托尼·克罗斯'] = 88\n",
    "d['托尼·克罗斯']"
   ]
  },
  {
   "cell_type": "code",
   "execution_count": 11,
   "metadata": {},
   "outputs": [
    {
     "ename": "KeyError",
     "evalue": "'大罗纳尔多'",
     "output_type": "error",
     "traceback": [
      "\u001b[1;31m---------------------------------------------------------------------------\u001b[0m",
      "\u001b[1;31mKeyError\u001b[0m                                  Traceback (most recent call last)",
      "\u001b[1;32m<ipython-input-11-aa0d953a8547>\u001b[0m in \u001b[0;36m<module>\u001b[1;34m()\u001b[0m\n\u001b[0;32m      1\u001b[0m \u001b[1;31m# 如果key不存在，dict就会报错\u001b[0m\u001b[1;33m\u001b[0m\u001b[1;33m\u001b[0m\u001b[0m\n\u001b[1;32m----> 2\u001b[1;33m \u001b[0md\u001b[0m\u001b[1;33m[\u001b[0m\u001b[1;34m'大罗纳尔多'\u001b[0m\u001b[1;33m]\u001b[0m\u001b[1;33m\u001b[0m\u001b[0m\n\u001b[0m",
      "\u001b[1;31mKeyError\u001b[0m: '大罗纳尔多'"
     ]
    }
   ],
   "source": [
    "# 如果key不存在，dict就会报错\n",
    "d['大罗纳尔多']"
   ]
  },
  {
   "cell_type": "markdown",
   "metadata": {},
   "source": [
    "### 判断key是否存在"
   ]
  },
  {
   "cell_type": "markdown",
   "metadata": {},
   "source": [
    "可以通过 in判断key是否存在"
   ]
  },
  {
   "cell_type": "code",
   "execution_count": 12,
   "metadata": {},
   "outputs": [
    {
     "data": {
      "text/plain": [
       "False"
      ]
     },
     "execution_count": 12,
     "metadata": {},
     "output_type": "execute_result"
    }
   ],
   "source": [
    "\"大罗纳尔多\" in d"
   ]
  },
  {
   "cell_type": "code",
   "execution_count": 17,
   "metadata": {},
   "outputs": [
    {
     "data": {
      "text/plain": [
       "True"
      ]
     },
     "execution_count": 17,
     "metadata": {},
     "output_type": "execute_result"
    }
   ],
   "source": [
    "\"内马尔\" in d"
   ]
  },
  {
   "cell_type": "markdown",
   "metadata": {},
   "source": [
    "通过dict提供的get()方法，如果key不存在，可以返回None，或者自己指定的value："
   ]
  },
  {
   "cell_type": "code",
   "execution_count": 20,
   "metadata": {},
   "outputs": [
    {
     "name": "stdout",
     "output_type": "stream",
     "text": [
      "None\n"
     ]
    }
   ],
   "source": [
    "k = d.get('卡恩')\n",
    "print(k)"
   ]
  },
  {
   "cell_type": "code",
   "execution_count": 22,
   "metadata": {},
   "outputs": [
    {
     "data": {
      "text/plain": [
       "-1"
      ]
     },
     "execution_count": 22,
     "metadata": {},
     "output_type": "execute_result"
    }
   ],
   "source": [
    "d.get('托马斯', -1)"
   ]
  },
  {
   "cell_type": "code",
   "execution_count": 23,
   "metadata": {},
   "outputs": [
    {
     "data": {
      "text/plain": [
       "93"
      ]
     },
     "execution_count": 23,
     "metadata": {},
     "output_type": "execute_result"
    }
   ],
   "source": [
    "d.get('梅西', -1)"
   ]
  },
  {
   "cell_type": "markdown",
   "metadata": {},
   "source": [
    "### 删除字典元素\n",
    "```python\n",
    "d.pop('key')  必须要传值，因为字典是无序的\n",
    "d.popitem()  随机删除一个\n",
    "del d['key'] \n",
    "d.clear()  清空字典\n",
    "```"
   ]
  },
  {
   "cell_type": "code",
   "execution_count": null,
   "metadata": {
    "collapsed": true
   },
   "outputs": [],
   "source": []
  },
  {
   "cell_type": "markdown",
   "metadata": {
    "collapsed": true
   },
   "source": [
    "### python字典练习题\n",
    "\n",
    "dict = {\"k1\":\"v1\",\"k2\":\"v2\",\"k3\":\"v3\"}\n",
    "\n",
    "1. 请在字典中增加一个键值对,\"k4\":\"v4\"，输出添加后的字典\n",
    "\n",
    "2. 请删除字典中键值对\"k1\":\"v1\",并输出删除后的结果\n",
    "\n",
    "4. 请获取字典中\"k2\"对应的值\n",
    "\n",
    "3. 请删除字典中键\"k5\"对应的键值对，如果字典中不存在键\"k5\",则不报错，返回None"
   ]
  },
  {
   "cell_type": "code",
   "execution_count": null,
   "metadata": {
    "collapsed": true
   },
   "outputs": [],
   "source": []
  },
  {
   "cell_type": "code",
   "execution_count": null,
   "metadata": {
    "collapsed": true
   },
   "outputs": [],
   "source": []
  },
  {
   "cell_type": "code",
   "execution_count": null,
   "metadata": {
    "collapsed": true
   },
   "outputs": [],
   "source": []
  },
  {
   "cell_type": "code",
   "execution_count": null,
   "metadata": {
    "collapsed": true
   },
   "outputs": [],
   "source": []
  },
  {
   "cell_type": "markdown",
   "metadata": {},
   "source": [
    "### 字典常见操作"
   ]
  },
  {
   "cell_type": "code",
   "execution_count": 42,
   "metadata": {},
   "outputs": [
    {
     "data": {
      "text/plain": [
       "dict_keys(['李毅', '拉莫斯', '梅西', '诺伊尔', '莱万多夫斯基', '苏亚雷斯', 'C罗纳尔多', '内马尔'])"
      ]
     },
     "execution_count": 42,
     "metadata": {},
     "output_type": "execute_result"
    }
   ],
   "source": [
    "# 获取字典key\n",
    "d.keys()"
   ]
  },
  {
   "cell_type": "code",
   "execution_count": 43,
   "metadata": {},
   "outputs": [
    {
     "data": {
      "text/plain": [
       "dict_values([66, 90, 93, 92, 91, 92, 94, 92])"
      ]
     },
     "execution_count": 43,
     "metadata": {},
     "output_type": "execute_result"
    }
   ],
   "source": [
    "# 获取字典values\n",
    "d.values()"
   ]
  },
  {
   "cell_type": "code",
   "execution_count": 38,
   "metadata": {},
   "outputs": [
    {
     "name": "stdout",
     "output_type": "stream",
     "text": [
      "dict_items([('李毅', 66), ('拉莫斯', 90), ('梅西', 93), ('诺伊尔', 92), ('莱万多夫斯基', 91), ('苏亚雷斯', 92), ('C罗纳尔多', 94), ('内马尔', 92)])\n"
     ]
    }
   ],
   "source": [
    "print(d.items())   # 输出一个list格式（非真正意义上的list）"
   ]
  },
  {
   "cell_type": "code",
   "execution_count": 39,
   "metadata": {},
   "outputs": [
    {
     "name": "stdout",
     "output_type": "stream",
     "text": [
      "[('李毅', 66), ('拉莫斯', 90), ('梅西', 93), ('诺伊尔', 92), ('莱万多夫斯基', 91), ('苏亚雷斯', 92), ('C罗纳尔多', 94), ('内马尔', 92)]\n"
     ]
    }
   ],
   "source": [
    "print(list(d.items()))  # 把字典的key 和 value 转成一个多维list"
   ]
  },
  {
   "cell_type": "code",
   "execution_count": 40,
   "metadata": {},
   "outputs": [
    {
     "data": {
      "text/plain": [
       "8"
      ]
     },
     "execution_count": 40,
     "metadata": {},
     "output_type": "execute_result"
    }
   ],
   "source": [
    "len(d)#计算字典元素个数，即键的总数。"
   ]
  },
  {
   "cell_type": "code",
   "execution_count": 41,
   "metadata": {},
   "outputs": [
    {
     "data": {
      "text/plain": [
       "\"{'李毅': 66, '拉莫斯': 90, '梅西': 93, '诺伊尔': 92, '莱万多夫斯基': 91, '苏亚雷斯': 92, 'C罗纳尔多': 94, '内马尔': 92}\""
      ]
     },
     "execution_count": 41,
     "metadata": {},
     "output_type": "execute_result"
    }
   ],
   "source": [
    "str(d)#输出字典可打印的字符串。"
   ]
  },
  {
   "cell_type": "code",
   "execution_count": null,
   "metadata": {
    "collapsed": true
   },
   "outputs": [],
   "source": []
  },
  {
   "cell_type": "markdown",
   "metadata": {},
   "source": [
    "### 遍历字典"
   ]
  },
  {
   "cell_type": "markdown",
   "metadata": {},
   "source": [
    "```python\n",
    "\n",
    "for k,v in d.items():   #遍历字典\n",
    "    print(k,v)\n",
    "无须转换成list 格式，保留了字典原有的特性\n",
    "```"
   ]
  },
  {
   "cell_type": "code",
   "execution_count": 24,
   "metadata": {
    "scrolled": true
   },
   "outputs": [
    {
     "name": "stdout",
     "output_type": "stream",
     "text": [
      "拉莫斯 90\n",
      "梅西 93\n",
      "诺伊尔 92\n",
      "莱万多夫斯基 91\n",
      "苏亚雷斯 92\n",
      "C罗纳尔多 94\n",
      "内马尔 92\n",
      "克罗斯 90\n"
     ]
    }
   ],
   "source": [
    "for k, v in d.items():\n",
    "    print(k, v)"
   ]
  },
  {
   "cell_type": "code",
   "execution_count": 25,
   "metadata": {},
   "outputs": [
    {
     "name": "stdout",
     "output_type": "stream",
     "text": [
      "拉莫斯 90\n",
      "拉莫斯 90\n",
      "梅西 93\n",
      "梅西 93\n",
      "诺伊尔 92\n",
      "诺伊尔 92\n",
      "莱万多夫斯基 91\n",
      "莱万多夫斯基 91\n",
      "苏亚雷斯 92\n",
      "苏亚雷斯 92\n",
      "C罗纳尔多 94\n",
      "C罗纳尔多 94\n",
      "内马尔 92\n",
      "内马尔 92\n",
      "克罗斯 90\n",
      "克罗斯 90\n"
     ]
    }
   ],
   "source": [
    "for k in d:\n",
    "    print(k,d[k])\n",
    "    print(k,d.get(k))   "
   ]
  },
  {
   "cell_type": "markdown",
   "metadata": {
    "collapsed": true
   },
   "source": [
    "### 将其他数据处理成字典"
   ]
  },
  {
   "cell_type": "code",
   "execution_count": 63,
   "metadata": {
    "collapsed": true
   },
   "outputs": [],
   "source": [
    "names = ['罗纳尔多', '梅西', '内马尔','苏亚雷斯', '诺伊尔', '莱万多夫斯基', '拉莫斯' ]\n",
    "scores = [94, 93, 92, 92, 92, 91, 90]"
   ]
  },
  {
   "cell_type": "code",
   "execution_count": 64,
   "metadata": {
    "collapsed": true
   },
   "outputs": [],
   "source": [
    "# 首先创建一个空字典\n",
    "d = {}\n",
    "for number,name in enumerate(names):\n",
    "    d[name] = scores[number]"
   ]
  },
  {
   "cell_type": "code",
   "execution_count": 62,
   "metadata": {},
   "outputs": [
    {
     "data": {
      "text/plain": [
       "{'克里斯蒂亚诺·罗纳尔多': 94,\n",
       " '内马尔': 92,\n",
       " '塞尔吉奥·拉莫斯': 90,\n",
       " '曼努埃尔·诺伊尔': 92,\n",
       " '罗伯特·莱万多夫斯基': 91,\n",
       " '路易斯·苏亚雷斯': 92,\n",
       " '里奥·梅西': 93}"
      ]
     },
     "execution_count": 62,
     "metadata": {},
     "output_type": "execute_result"
    }
   ],
   "source": [
    "d"
   ]
  },
  {
   "cell_type": "code",
   "execution_count": null,
   "metadata": {
    "collapsed": true
   },
   "outputs": [],
   "source": []
  },
  {
   "cell_type": "code",
   "execution_count": null,
   "metadata": {
    "collapsed": true
   },
   "outputs": [],
   "source": []
  },
  {
   "cell_type": "markdown",
   "metadata": {
    "collapsed": true
   },
   "source": [
    "### python字典练习题\n",
    "\n",
    "dict = {\"k1\":\"v1\",\"k2\":\"v2\",\"k3\":\"v3\"}\n",
    "\n",
    "1. 请循环遍历出所有的key\n",
    "\n",
    "2. 请循环遍历出所有的value\n",
    "\n",
    "3. 请循环遍历出所有的key和value,中间用冒号分割\n",
    "\n",
    "4. 把所有value变成原来的值的两次重复,例如\"v1\"变成\"v1v1\""
   ]
  },
  {
   "cell_type": "code",
   "execution_count": null,
   "metadata": {
    "collapsed": true
   },
   "outputs": [],
   "source": []
  },
  {
   "cell_type": "code",
   "execution_count": null,
   "metadata": {
    "collapsed": true
   },
   "outputs": [],
   "source": []
  },
  {
   "cell_type": "markdown",
   "metadata": {},
   "source": [
    "## 集合 Set\n",
    "\n",
    "集合（set）是一个无序的不重复元素序列。\n",
    "\n",
    "set和dict类似，也是一组key的集合，但不存储value。由于key不能重复，所以，在set中，没有重复的key。\n",
    "\n",
    "其实集合就是一个没有value的dict"
   ]
  },
  {
   "cell_type": "code",
   "execution_count": 44,
   "metadata": {},
   "outputs": [
    {
     "data": {
      "text/plain": [
       "{1, 2, 3}"
      ]
     },
     "execution_count": 44,
     "metadata": {},
     "output_type": "execute_result"
    }
   ],
   "source": [
    "# 要创建一个set，需要提供一个list作为输入集合：\n",
    "\n",
    "s = set([1, 2, 3])\n",
    "s"
   ]
  },
  {
   "cell_type": "markdown",
   "metadata": {},
   "source": [
    "要注意的是set是无序的, 虽然这里1, 2, 3是顺序显示的"
   ]
  },
  {
   "cell_type": "code",
   "execution_count": 1,
   "metadata": {},
   "outputs": [
    {
     "data": {
      "text/plain": [
       "{1, 2, 3}"
      ]
     },
     "execution_count": 1,
     "metadata": {},
     "output_type": "execute_result"
    }
   ],
   "source": [
    "s = set([2, 1, 3])\n",
    "s"
   ]
  },
  {
   "cell_type": "markdown",
   "metadata": {},
   "source": [
    "set 一个常规应用时过滤重复值"
   ]
  },
  {
   "cell_type": "code",
   "execution_count": 2,
   "metadata": {},
   "outputs": [
    {
     "data": {
      "text/plain": [
       "{1, 2, 3}"
      ]
     },
     "execution_count": 2,
     "metadata": {},
     "output_type": "execute_result"
    }
   ],
   "source": [
    "s = set([1, 1, 2, 2, 3, 3])\n",
    "s"
   ]
  },
  {
   "cell_type": "markdown",
   "metadata": {},
   "source": [
    "可以通过add(key)方法添加元素到set中，但对于已经存在的值不会有效果"
   ]
  },
  {
   "cell_type": "code",
   "execution_count": 3,
   "metadata": {},
   "outputs": [
    {
     "data": {
      "text/plain": [
       "{1, 2, 3, 4}"
      ]
     },
     "execution_count": 3,
     "metadata": {},
     "output_type": "execute_result"
    }
   ],
   "source": [
    "s.add(4)\n",
    "s"
   ]
  },
  {
   "cell_type": "code",
   "execution_count": 4,
   "metadata": {},
   "outputs": [
    {
     "data": {
      "text/plain": [
       "{1, 2, 3, 4}"
      ]
     },
     "execution_count": 4,
     "metadata": {},
     "output_type": "execute_result"
    }
   ],
   "source": [
    "s.add(4)\n",
    "s"
   ]
  },
  {
   "cell_type": "code",
   "execution_count": 5,
   "metadata": {},
   "outputs": [
    {
     "data": {
      "text/plain": [
       "{1, 2, 3}"
      ]
     },
     "execution_count": 5,
     "metadata": {},
     "output_type": "execute_result"
    }
   ],
   "source": [
    "# remove(key)\n",
    "\n",
    "s.remove(4)\n",
    "s"
   ]
  },
  {
   "cell_type": "markdown",
   "metadata": {},
   "source": [
    "### 集合用于去重"
   ]
  },
  {
   "cell_type": "code",
   "execution_count": 10,
   "metadata": {},
   "outputs": [],
   "source": [
    "L = [1, 2,3, 4, 5, 5, 4, 2, 1]"
   ]
  },
  {
   "cell_type": "code",
   "execution_count": 11,
   "metadata": {},
   "outputs": [
    {
     "data": {
      "text/plain": [
       "{1, 2, 3, 4, 5}"
      ]
     },
     "execution_count": 11,
     "metadata": {},
     "output_type": "execute_result"
    }
   ],
   "source": [
    "set(L)"
   ]
  },
  {
   "cell_type": "markdown",
   "metadata": {},
   "source": [
    "### 集合运算(自学部分)"
   ]
  },
  {
   "cell_type": "markdown",
   "metadata": {},
   "source": [
    "集合类型的4种基本操作：交集（&） 、 并集（|） 、 差集（-） 、 补集（^） ， 操作逻辑与数学定义相同"
   ]
  },
  {
   "cell_type": "markdown",
   "metadata": {},
   "source": [
    "<img src=\"http://img.haoxueai.top/markdown/2020-09-10-090503.png\" alt=\"tt5\" style=\"zoom:50%;\" />"
   ]
  },
  {
   "cell_type": "markdown",
   "metadata": {},
   "source": [
    "| 运算符                  | 对应方法                    |\n",
    "| ----------------------- | --------------------------- |\n",
    "| s1 & s2 交集            | s1.intersection(s2)         |\n",
    "| s1 \\| s2 并集           | s1.union(s2)                |\n",
    "| s1 - s2  差集           | s1.difference(s2)           |\n",
    "| s1 ^ s2  对称差         | s1.symmetric_difference(s2) |\n",
    "| s1 <= s2 是否是s2的子集 | s1.issubset(s2)             |\n",
    "| s1 >= s2 是否是s2的超集 | s1.issuperset(s2)           |\n",
    "| s1 \\|= s2 用s2更新s1    | s1.update(s2)               |"
   ]
  },
  {
   "cell_type": "code",
   "execution_count": 6,
   "metadata": {},
   "outputs": [
    {
     "data": {
      "text/plain": [
       "{2, 3}"
      ]
     },
     "execution_count": 6,
     "metadata": {},
     "output_type": "execute_result"
    }
   ],
   "source": [
    "s1 = set([1, 2, 3])\n",
    "s2 = set([2, 3, 4])\n",
    "s1 & s2"
   ]
  },
  {
   "cell_type": "code",
   "execution_count": 9,
   "metadata": {},
   "outputs": [
    {
     "data": {
      "text/plain": [
       "{2, 3}"
      ]
     },
     "execution_count": 9,
     "metadata": {},
     "output_type": "execute_result"
    }
   ],
   "source": [
    "s1.intersection(s2)"
   ]
  },
  {
   "cell_type": "code",
   "execution_count": 51,
   "metadata": {},
   "outputs": [
    {
     "data": {
      "text/plain": [
       "{1, 2, 3, 4}"
      ]
     },
     "execution_count": 51,
     "metadata": {},
     "output_type": "execute_result"
    }
   ],
   "source": [
    "s1 | s2"
   ]
  },
  {
   "cell_type": "code",
   "execution_count": 8,
   "metadata": {},
   "outputs": [
    {
     "data": {
      "text/plain": [
       "{1, 2, 3, 4}"
      ]
     },
     "execution_count": 8,
     "metadata": {},
     "output_type": "execute_result"
    }
   ],
   "source": [
    "s1.union(s2)"
   ]
  },
  {
   "cell_type": "markdown",
   "metadata": {},
   "source": [
    "想一下: 下面的这种代码为什么会报错?"
   ]
  },
  {
   "cell_type": "code",
   "execution_count": 52,
   "metadata": {},
   "outputs": [
    {
     "ename": "TypeError",
     "evalue": "unhashable type: 'list'",
     "output_type": "error",
     "traceback": [
      "\u001b[1;31m---------------------------------------------------------------------------\u001b[0m",
      "\u001b[1;31mTypeError\u001b[0m                                 Traceback (most recent call last)",
      "\u001b[1;32m<ipython-input-52-343aa6b2850a>\u001b[0m in \u001b[0;36m<module>\u001b[1;34m()\u001b[0m\n\u001b[1;32m----> 1\u001b[1;33m \u001b[0ms1\u001b[0m \u001b[1;33m=\u001b[0m \u001b[0mset\u001b[0m\u001b[1;33m(\u001b[0m\u001b[1;33m[\u001b[0m\u001b[1;36m1\u001b[0m\u001b[1;33m,\u001b[0m \u001b[1;36m2\u001b[0m\u001b[1;33m,\u001b[0m \u001b[1;36m3\u001b[0m\u001b[1;33m,\u001b[0m \u001b[1;33m[\u001b[0m\u001b[1;36m4\u001b[0m\u001b[1;33m,\u001b[0m \u001b[1;36m5\u001b[0m\u001b[1;33m,\u001b[0m \u001b[1;36m6\u001b[0m\u001b[1;33m]\u001b[0m\u001b[1;33m]\u001b[0m\u001b[1;33m)\u001b[0m\u001b[1;33m\u001b[0m\u001b[0m\n\u001b[0m",
      "\u001b[1;31mTypeError\u001b[0m: unhashable type: 'list'"
     ]
    }
   ],
   "source": [
    "s1 = set([1, 2, 3, [4, 5, 6]])"
   ]
  },
  {
   "cell_type": "code",
   "execution_count": null,
   "metadata": {
    "collapsed": true
   },
   "outputs": [],
   "source": []
  },
  {
   "cell_type": "markdown",
   "metadata": {},
   "source": [
    "### 小练习:\n",
    "\n",
    "有元组 T = ('A','B','E','F','A','B',\"A\",'B',\"C\")\n",
    "\n",
    "T2 = (\"B\",\"E\",'K','D')\n",
    "\n",
    "去除元组T中的重复值,将结果赋值成Se\n",
    "\n",
    "求Se 和 T2 的交集,并集\n",
    "\n",
    "在Se中添加元素\"Z\"\n",
    "\n",
    "清空Se"
   ]
  },
  {
   "cell_type": "code",
   "execution_count": null,
   "metadata": {
    "collapsed": true
   },
   "outputs": [],
   "source": []
  },
  {
   "cell_type": "code",
   "execution_count": null,
   "metadata": {
    "collapsed": true
   },
   "outputs": [],
   "source": []
  },
  {
   "cell_type": "code",
   "execution_count": null,
   "metadata": {
    "collapsed": true
   },
   "outputs": [],
   "source": []
  },
  {
   "cell_type": "code",
   "execution_count": null,
   "metadata": {
    "collapsed": true
   },
   "outputs": [],
   "source": []
  },
  {
   "cell_type": "code",
   "execution_count": null,
   "metadata": {
    "collapsed": true
   },
   "outputs": [],
   "source": []
  },
  {
   "cell_type": "code",
   "execution_count": null,
   "metadata": {
    "collapsed": true
   },
   "outputs": [],
   "source": []
  },
  {
   "cell_type": "code",
   "execution_count": null,
   "metadata": {
    "collapsed": true
   },
   "outputs": [],
   "source": []
  },
  {
   "cell_type": "code",
   "execution_count": null,
   "metadata": {
    "collapsed": true
   },
   "outputs": [],
   "source": []
  },
  {
   "cell_type": "code",
   "execution_count": null,
   "metadata": {
    "collapsed": true
   },
   "outputs": [],
   "source": []
  }
 ],
 "metadata": {
  "kernelspec": {
   "display_name": "Python 3",
   "language": "python",
   "name": "python3"
  },
  "language_info": {
   "codemirror_mode": {
    "name": "ipython",
    "version": 3
   },
   "file_extension": ".py",
   "mimetype": "text/x-python",
   "name": "python",
   "nbconvert_exporter": "python",
   "pygments_lexer": "ipython3",
   "version": "3.7.4"
  },
  "nbTranslate": {
   "displayLangs": [
    "en"
   ],
   "hotkey": "alt-t",
   "langInMainMenu": true,
   "sourceLang": "ch",
   "targetLang": "en",
   "useGoogleTranslate": true
  },
  "toc": {
   "base_numbering": 1,
   "nav_menu": {},
   "number_sections": true,
   "sideBar": true,
   "skip_h1_title": false,
   "title_cell": "Table of Contents",
   "title_sidebar": "Contents",
   "toc_cell": true,
   "toc_position": {
    "height": "calc(100% - 180px)",
    "left": "10px",
    "top": "150px",
    "width": "245px"
   },
   "toc_section_display": true,
   "toc_window_display": true
  },
  "varInspector": {
   "cols": {
    "lenName": 16,
    "lenType": 16,
    "lenVar": 40
   },
   "kernels_config": {
    "python": {
     "delete_cmd_postfix": "",
     "delete_cmd_prefix": "del ",
     "library": "var_list.py",
     "varRefreshCmd": "print(var_dic_list())"
    },
    "r": {
     "delete_cmd_postfix": ") ",
     "delete_cmd_prefix": "rm(",
     "library": "var_list.r",
     "varRefreshCmd": "cat(var_dic_list()) "
    }
   },
   "types_to_exclude": [
    "module",
    "function",
    "builtin_function_or_method",
    "instance",
    "_Feature"
   ],
   "window_display": false
  }
 },
 "nbformat": 4,
 "nbformat_minor": 2
}
