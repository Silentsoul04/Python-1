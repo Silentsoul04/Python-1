{
 "cells": [
  {
   "cell_type": "markdown",
   "metadata": {},
   "source": [
    "# knn python实现"
   ]
  },
  {
   "cell_type": "code",
   "execution_count": 1,
   "metadata": {},
   "outputs": [
    {
     "name": "stdout",
     "output_type": "stream",
     "text": [
      "动作片\n"
     ]
    }
   ],
   "source": [
    "import numpy as np\n",
    "import collections\n",
    "#数据集\n",
    "def createDataSet():\n",
    "    group = np.array([[1,101],[5,89],[108,5],[115,8]])#四组二维特征\n",
    "    labels = ['爱情片','爱情片','动作片','动作片']#四组特征的标签\n",
    "    return group, labels\n",
    "\n",
    "dataset, labels = createDataSet()\n",
    "test_data = [101,20]#测试集\n",
    "\n",
    "k=3\n",
    "distances = np.sum((test_data - dataset)**2, axis=1)**0.5#按行\n",
    "k_labels = [labels[index] for index in distances.argsort()[0:k]]# k个最近的标签\n",
    "label = collections.Counter(k_labels).most_common(1)[0][0]# 出现次数最多的标签即为最终类别\n",
    "print(label)"
   ]
  },
  {
   "cell_type": "code",
   "execution_count": 2,
   "metadata": {},
   "outputs": [
    {
     "name": "stdout",
     "output_type": "stream",
     "text": [
      "动作片\n"
     ]
    }
   ],
   "source": [
    "#整合代码\n",
    "import numpy as np\n",
    "import collections\n",
    "def classify(inx, dataset, labels, k):\n",
    "    dist = np.sum((inx - dataset)**2, axis=1)**0.5# 计算距离\n",
    "    k_labels = [labels[index] for index in dist.argsort()[0 : k]]# k个最近的标签\n",
    "    label = collections.Counter(k_labels).most_common(1)[0][0]# 出现次数最多的标签即为最终类别\n",
    "    return label\n",
    "\n",
    "\n",
    "#创建数据集\n",
    "group, labels = createDataSet()\n",
    "#测试集\n",
    "test = [101,20]\n",
    "#kNN分类\n",
    "test_class0 = classify(test, group, labels, 3)\n",
    "print(test_class0)"
   ]
  },
  {
   "cell_type": "markdown",
   "metadata": {},
   "source": [
    "# 约会网站测试"
   ]
  },
  {
   "cell_type": "markdown",
   "metadata": {},
   "source": [
    "## 读取数据"
   ]
  },
  {
   "cell_type": "code",
   "execution_count": 3,
   "metadata": {},
   "outputs": [
    {
     "data": {
      "text/html": [
       "<div>\n",
       "<style scoped>\n",
       "    .dataframe tbody tr th:only-of-type {\n",
       "        vertical-align: middle;\n",
       "    }\n",
       "\n",
       "    .dataframe tbody tr th {\n",
       "        vertical-align: top;\n",
       "    }\n",
       "\n",
       "    .dataframe thead th {\n",
       "        text-align: right;\n",
       "    }\n",
       "</style>\n",
       "<table border=\"1\" class=\"dataframe\">\n",
       "  <thead>\n",
       "    <tr style=\"text-align: right;\">\n",
       "      <th></th>\n",
       "      <th>y</th>\n",
       "    </tr>\n",
       "  </thead>\n",
       "  <tbody>\n",
       "    <tr>\n",
       "      <th>0</th>\n",
       "      <td>largeDoses</td>\n",
       "    </tr>\n",
       "    <tr>\n",
       "      <th>1</th>\n",
       "      <td>smallDoses</td>\n",
       "    </tr>\n",
       "    <tr>\n",
       "      <th>2</th>\n",
       "      <td>didntLike</td>\n",
       "    </tr>\n",
       "    <tr>\n",
       "      <th>3</th>\n",
       "      <td>didntLike</td>\n",
       "    </tr>\n",
       "    <tr>\n",
       "      <th>4</th>\n",
       "      <td>didntLike</td>\n",
       "    </tr>\n",
       "  </tbody>\n",
       "</table>\n",
       "</div>"
      ],
      "text/plain": [
       "            y\n",
       "0  largeDoses\n",
       "1  smallDoses\n",
       "2   didntLike\n",
       "3   didntLike\n",
       "4   didntLike"
      ]
     },
     "execution_count": 3,
     "metadata": {},
     "output_type": "execute_result"
    }
   ],
   "source": [
    "import numpy as np\n",
    "import pandas as pd\n",
    "data=pd.read_csv('D:\\CDA\\File\\datingTestSet.txt',sep='\t',names=['x1','x2','x3','y'])\n",
    "datingDataMat=data.loc[:,'x1':'x3']\n",
    "datingLabels=data.loc[:,'y':]\n",
    "datingLabels.head()"
   ]
  },
  {
   "cell_type": "markdown",
   "metadata": {},
   "source": [
    "## 计算错误率"
   ]
  },
  {
   "cell_type": "code",
   "execution_count": 5,
   "metadata": {},
   "outputs": [
    {
     "name": "stdout",
     "output_type": "stream",
     "text": [
      "预测结果:largeDoses\t真实类别:largeDoses\n",
      "预测结果:smallDoses\t真实类别:smallDoses\n",
      "预测结果:didntLike\t真实类别:didntLike\n",
      "预测结果:didntLike\t真实类别:didntLike\n",
      "预测结果:didntLike\t真实类别:didntLike\n",
      "预测结果:didntLike\t真实类别:didntLike\n",
      "预测结果:largeDoses\t真实类别:largeDoses\n",
      "预测结果:largeDoses\t真实类别:largeDoses\n",
      "预测结果:didntLike\t真实类别:didntLike\n",
      "预测结果:largeDoses\t真实类别:largeDoses\n",
      "预测结果:didntLike\t真实类别:didntLike\n",
      "预测结果:didntLike\t真实类别:didntLike\n",
      "预测结果:smallDoses\t真实类别:smallDoses\n",
      "预测结果:didntLike\t真实类别:didntLike\n",
      "预测结果:didntLike\t真实类别:didntLike\n",
      "预测结果:didntLike\t真实类别:didntLike\n",
      "预测结果:didntLike\t真实类别:didntLike\n",
      "预测结果:didntLike\t真实类别:didntLike\n",
      "预测结果:smallDoses\t真实类别:smallDoses\n",
      "预测结果:largeDoses\t真实类别:largeDoses\n",
      "预测结果:smallDoses\t真实类别:smallDoses\n",
      "预测结果:didntLike\t真实类别:didntLike\n",
      "预测结果:smallDoses\t真实类别:smallDoses\n",
      "预测结果:largeDoses\t真实类别:largeDoses\n",
      "预测结果:smallDoses\t真实类别:smallDoses\n",
      "预测结果:largeDoses\t真实类别:largeDoses\n",
      "预测结果:smallDoses\t真实类别:smallDoses\n",
      "预测结果:largeDoses\t真实类别:largeDoses\n",
      "预测结果:smallDoses\t真实类别:smallDoses\n",
      "预测结果:didntLike\t真实类别:didntLike\n",
      "预测结果:largeDoses\t真实类别:largeDoses\n",
      "预测结果:didntLike\t真实类别:didntLike\n",
      "预测结果:largeDoses\t真实类别:largeDoses\n",
      "预测结果:didntLike\t真实类别:didntLike\n",
      "预测结果:smallDoses\t真实类别:smallDoses\n",
      "预测结果:didntLike\t真实类别:didntLike\n",
      "预测结果:didntLike\t真实类别:didntLike\n",
      "预测结果:smallDoses\t真实类别:smallDoses\n",
      "预测结果:largeDoses\t真实类别:largeDoses\n",
      "预测结果:largeDoses\t真实类别:largeDoses\n",
      "预测结果:didntLike\t真实类别:didntLike\n",
      "预测结果:smallDoses\t真实类别:smallDoses\n",
      "预测结果:largeDoses\t真实类别:largeDoses\n",
      "预测结果:largeDoses\t真实类别:largeDoses\n",
      "预测结果:largeDoses\t真实类别:largeDoses\n",
      "预测结果:didntLike\t真实类别:didntLike\n",
      "预测结果:didntLike\t真实类别:didntLike\n",
      "预测结果:didntLike\t真实类别:didntLike\n",
      "预测结果:didntLike\t真实类别:didntLike\n",
      "预测结果:smallDoses\t真实类别:smallDoses\n",
      "预测结果:smallDoses\t真实类别:smallDoses\n",
      "预测结果:didntLike\t真实类别:didntLike\n",
      "预测结果:largeDoses\t真实类别:largeDoses\n",
      "预测结果:smallDoses\t真实类别:smallDoses\n",
      "预测结果:smallDoses\t真实类别:smallDoses\n",
      "预测结果:smallDoses\t真实类别:smallDoses\n",
      "预测结果:smallDoses\t真实类别:smallDoses\n",
      "预测结果:largeDoses\t真实类别:largeDoses\n",
      "预测结果:didntLike\t真实类别:didntLike\n",
      "预测结果:smallDoses\t真实类别:smallDoses\n",
      "预测结果:didntLike\t真实类别:didntLike\n",
      "预测结果:smallDoses\t真实类别:smallDoses\n",
      "预测结果:smallDoses\t真实类别:smallDoses\n",
      "预测结果:smallDoses\t真实类别:smallDoses\n",
      "预测结果:smallDoses\t真实类别:smallDoses\n",
      "预测结果:smallDoses\t真实类别:smallDoses\n",
      "预测结果:largeDoses\t真实类别:largeDoses\n",
      "预测结果:smallDoses\t真实类别:smallDoses\n",
      "预测结果:largeDoses\t真实类别:largeDoses\n",
      "预测结果:didntLike\t真实类别:didntLike\n",
      "预测结果:smallDoses\t真实类别:smallDoses\n",
      "预测结果:largeDoses\t真实类别:largeDoses\n",
      "预测结果:smallDoses\t真实类别:smallDoses\n",
      "预测结果:smallDoses\t真实类别:smallDoses\n",
      "预测结果:largeDoses\t真实类别:didntLike\n",
      "预测结果:largeDoses\t真实类别:largeDoses\n",
      "预测结果:didntLike\t真实类别:didntLike\n",
      "预测结果:didntLike\t真实类别:didntLike\n",
      "预测结果:largeDoses\t真实类别:largeDoses\n",
      "预测结果:largeDoses\t真实类别:largeDoses\n",
      "预测结果:didntLike\t真实类别:didntLike\n",
      "预测结果:smallDoses\t真实类别:smallDoses\n",
      "预测结果:largeDoses\t真实类别:largeDoses\n",
      "预测结果:largeDoses\t真实类别:didntLike\n",
      "预测结果:largeDoses\t真实类别:largeDoses\n",
      "预测结果:didntLike\t真实类别:didntLike\n",
      "预测结果:smallDoses\t真实类别:smallDoses\n",
      "预测结果:smallDoses\t真实类别:smallDoses\n",
      "预测结果:didntLike\t真实类别:didntLike\n",
      "预测结果:didntLike\t真实类别:didntLike\n",
      "预测结果:largeDoses\t真实类别:largeDoses\n",
      "预测结果:smallDoses\t真实类别:largeDoses\n",
      "预测结果:didntLike\t真实类别:didntLike\n",
      "预测结果:smallDoses\t真实类别:smallDoses\n",
      "预测结果:didntLike\t真实类别:didntLike\n",
      "预测结果:largeDoses\t真实类别:largeDoses\n",
      "预测结果:largeDoses\t真实类别:largeDoses\n",
      "预测结果:smallDoses\t真实类别:smallDoses\n",
      "预测结果:smallDoses\t真实类别:didntLike\n",
      "预测结果:didntLike\t真实类别:didntLike\n",
      "错误率:4.000000%\n"
     ]
    }
   ],
   "source": [
    "#计算错误率\n",
    "datingData=data.loc[:,'x1':'x3']\n",
    "datingLabels=data['y']\n",
    "#数据归一化\n",
    "df_norm = (datingData - datingData.min()) / (datingData.max() - datingData.min())\n",
    "errorCount = 0.0\n",
    "for i in range(100):#前100作为测试，后900个作为训练\n",
    "\tclassifierResult = classify(df_norm.values[i,:], df_norm.values[100:1001,:],list(datingLabels[100:1000]), 4)\n",
    "\tprint(\"预测结果:%s\\t真实类别:%s\" % (classifierResult, datingLabels[i]))\n",
    "\tif classifierResult is not datingLabels[i]:\n",
    "\t\terrorCount += 1.0\n",
    "print(\"错误率:%f%%\" %(errorCount/float(100)*100))"
   ]
  },
  {
   "cell_type": "markdown",
   "metadata": {},
   "source": [
    "## 完整可用系统"
   ]
  },
  {
   "cell_type": "code",
   "execution_count": 7,
   "metadata": {},
   "outputs": [
    {
     "name": "stdout",
     "output_type": "stream",
     "text": [
      "每年获得的飞行常客里程数:100\n",
      "玩视频游戏所耗时间百分比:30\n",
      "每周消费的冰激淋公升数:59\n",
      "你可能smallDoses这个人\n"
     ]
    }
   ],
   "source": [
    "# -*- coding: utf-8 -*-\n",
    "#构建完成可用系统    \n",
    "ffMiles = float(input(\"每年获得的飞行常客里程数:\"))\n",
    "precentTats = float(input(\"玩视频游戏所耗时间百分比:\"))\n",
    "iceCream = float(input(\"每周消费的冰激淋公升数:\"))    \n",
    "\n",
    "inArr = np.array([ffMiles, precentTats, iceCream])\n",
    "norminArr = np.array((inArr - datingData.min()) / (datingData.max() - datingData.min()))\n",
    "\n",
    "classifierResult = classify(norminArr, df_norm.values, list(datingLabels), 4)\n",
    "#打印结果\n",
    "print(\"你可能%s这个人\" %(classifierResult))"
   ]
  },
  {
   "cell_type": "markdown",
   "metadata": {},
   "source": [
    "# sklearn中的knn"
   ]
  },
  {
   "cell_type": "markdown",
   "metadata": {},
   "source": [
    "## 分类"
   ]
  },
  {
   "cell_type": "code",
   "execution_count": 66,
   "metadata": {},
   "outputs": [
    {
     "name": "stdout",
     "output_type": "stream",
     "text": [
      "[[0.66666667 0.33333333]]\n",
      "[0]\n"
     ]
    },
    {
     "data": {
      "text/plain": [
       "'a'"
      ]
     },
     "execution_count": 66,
     "metadata": {},
     "output_type": "execute_result"
    }
   ],
   "source": [
    "#分类\n",
    "X = [[0], [1], [2], [3]]\n",
    "y = [0,0,1,1]\n",
    "\n",
    "from sklearn.neighbors import KNeighborsClassifier\n",
    "neigh = KNeighborsClassifier(n_neighbors=3)\n",
    "neigh.fit(X, y) \n",
    "print(neigh.predict_proba([[1.1]]))\n",
    "\n",
    "a=neigh.predict([[1.1]])\n",
    "print(a)"
   ]
  },
  {
   "cell_type": "markdown",
   "metadata": {},
   "source": [
    "### 鸢尾花分类"
   ]
  },
  {
   "cell_type": "code",
   "execution_count": 8,
   "metadata": {},
   "outputs": [
    {
     "name": "stdout",
     "output_type": "stream",
     "text": [
      "数据量 (150, 4)\n",
      "预测结果 [2 1 0 2 0 2 0 1 1 1 2 1 1 1 1 0 1 1 0 0 2 1 0 0 2 0 0 1 1 0]\n",
      "预测准确率 1.0\n"
     ]
    }
   ],
   "source": [
    "#鸢尾花分类\n",
    "import numpy as np\n",
    "from sklearn import datasets\n",
    "from sklearn.neighbors import KNeighborsClassifier\n",
    "from sklearn.model_selection import train_test_split\n",
    "# 导入鸢尾花数据并查看数据特征\n",
    "iris = datasets.load_iris()\n",
    "print('数据量',iris.data.shape)\n",
    "# 拆分属性数据\n",
    "iris_X = iris.data\n",
    "# 拆分类别数据\n",
    "iris_y = iris.target\n",
    "iris_train_X , iris_test_X, iris_train_y ,iris_test_y = train_test_split(iris_X, iris_y, test_size=0.2,random_state=0)\n",
    "knn = KNeighborsClassifier(n_neighbors=6)\n",
    "knn.fit(iris_train_X, iris_train_y)\n",
    "predict_result=knn.predict(iris_test_X)\n",
    "print('预测结果',predict_result)\n",
    "# 计算预测的准确率\n",
    "print('预测准确率',knn.score(iris_test_X, iris_test_y))"
   ]
  },
  {
   "cell_type": "markdown",
   "metadata": {},
   "source": [
    "## 回归"
   ]
  },
  {
   "cell_type": "code",
   "execution_count": 9,
   "metadata": {},
   "outputs": [
    {
     "name": "stdout",
     "output_type": "stream",
     "text": [
      "[0.5]\n"
     ]
    }
   ],
   "source": [
    "#回归\n",
    "X = [[0], [1], [2], [3]]\n",
    "y = [0, 0, 1, 1]\n",
    "from sklearn.neighbors import KNeighborsRegressor\n",
    "neigh = KNeighborsRegressor(n_neighbors=2)\n",
    "neigh.fit(X, y) \n",
    "print(neigh.predict([[1.5]]))"
   ]
  },
  {
   "cell_type": "markdown",
   "metadata": {},
   "source": [
    "### 波士顿房价预测"
   ]
  },
  {
   "cell_type": "code",
   "execution_count": 44,
   "metadata": {},
   "outputs": [],
   "source": [
    "from sklearn.linear_model import LinearRegression, Ridge,Lasso\n",
    "from sklearn.preprocessing import StandardScaler\n",
    "from sklearn.datasets import load_boston\n",
    "from sklearn.model_selection import train_test_split\n",
    "import matplotlib.pyplot as plt \n",
    "# 1、加载数据集\n",
    "ld = load_boston()\n",
    "x_train,x_test,y_train,y_test = train_test_split(ld.data,ld.target,test_size=0.25,random_state=4 )"
   ]
  },
  {
   "cell_type": "code",
   "execution_count": 45,
   "metadata": {},
   "outputs": [],
   "source": [
    "# 2、标准化处理\n",
    "# 特征值处理\n",
    "std_x = StandardScaler()\n",
    "x_train = std_x.fit_transform(x_train)\n",
    "x_test = std_x.transform(x_test)"
   ]
  },
  {
   "cell_type": "code",
   "execution_count": 46,
   "metadata": {},
   "outputs": [
    {
     "data": {
      "text/plain": [
       "0.7532231562334272"
      ]
     },
     "execution_count": 46,
     "metadata": {},
     "output_type": "execute_result"
    }
   ],
   "source": [
    "# knn回归\n",
    "knn=KNeighborsRegressor().fit(x_train,y_train)\n",
    "knn.score(x_test,y_test)"
   ]
  },
  {
   "cell_type": "code",
   "execution_count": 47,
   "metadata": {},
   "outputs": [
    {
     "data": {
      "text/plain": [
       "0.7313816523148401"
      ]
     },
     "execution_count": 47,
     "metadata": {},
     "output_type": "execute_result"
    }
   ],
   "source": [
    "# LinearRegression\n",
    "lr=LinearRegression().fit(x_train,y_train)\n",
    "lr.score(x_test,y_test)"
   ]
  },
  {
   "cell_type": "markdown",
   "metadata": {},
   "source": [
    "### 学习曲线"
   ]
  },
  {
   "cell_type": "code",
   "execution_count": 55,
   "metadata": {
    "scrolled": true
   },
   "outputs": [
    {
     "data": {
      "image/png": "[encoded data removed]",
      "text/plain": [
       "<Figure size 432x288 with 1 Axes>"
      ]
     },
     "metadata": {
      "needs_background": "light"
     },
     "output_type": "display_data"
    },
    {
     "name": "stdout",
     "output_type": "stream",
     "text": [
      "2\n"
     ]
    }
   ],
   "source": [
    "krange = range(1,20)\n",
    "score=[]\n",
    "for i in krange:\n",
    "    knn = KNeighborsRegressor(n_neighbors=i)\n",
    "    knn.fit(x_train, y_train)\n",
    "    score.append(knn.score(x_test,y_test))\n",
    "plt.plot(krange,score)\n",
    "plt.show()\n",
    "print(score.index(max(score))+1)"
   ]
  },
  {
   "cell_type": "markdown",
   "metadata": {},
   "source": [
    "## 参数优化"
   ]
  },
  {
   "cell_type": "code",
   "execution_count": 58,
   "metadata": {},
   "outputs": [
    {
     "name": "stderr",
     "output_type": "stream",
     "text": [
      "D:\\conda\\lib\\site-packages\\sklearn\\model_selection\\_search.py:814: DeprecationWarning: The default of the `iid` parameter will change from True to False in version 0.22 and will be removed in 0.24. This will change numeric results when test-set sizes are unequal.\n",
      "  DeprecationWarning)\n"
     ]
    },
    {
     "data": {
      "text/plain": [
       "{'n_neighbors': 3}"
      ]
     },
     "execution_count": 58,
     "metadata": {},
     "output_type": "execute_result"
    }
   ],
   "source": [
    "from sklearn.model_selection import GridSearchCV\n",
    "params={'n_neighbors':range(1,20)}\n",
    "knn = KNeighborsRegressor()\n",
    "grid_search=GridSearchCV(knn,param_grid=params,cv=10)\n",
    "grid_search.fit(x_train,y_train)\n",
    "grid_search.best_params_"
   ]
  },
  {
   "cell_type": "code",
   "execution_count": 59,
   "metadata": {},
   "outputs": [
    {
     "data": {
      "text/plain": [
       "0.765642183652616"
      ]
     },
     "execution_count": 59,
     "metadata": {},
     "output_type": "execute_result"
    }
   ],
   "source": [
    "grid_search.score(x_test,y_test)"
   ]
  },
  {
   "cell_type": "markdown",
   "metadata": {},
   "source": [
    "# knn手写数字识别"
   ]
  },
  {
   "cell_type": "code",
   "execution_count": 61,
   "metadata": {},
   "outputs": [
    {
     "data": {
      "text/plain": [
       "0.9873150105708245"
      ]
     },
     "execution_count": 61,
     "metadata": {},
     "output_type": "execute_result"
    }
   ],
   "source": [
    "#knn手写数字识别\n",
    "import os\n",
    "os.chdir('D:\\\\CDA\\\\File')\n",
    "import numpy as np\n",
    "from os import listdir\n",
    "from sklearn.neighbors import KNeighborsClassifier as kNN\n",
    " \n",
    "def img2vector(filename):\n",
    "    returnVect = np.zeros((1, 1024))\n",
    "    fr = open(filename)\n",
    "    for i in range(32):\n",
    "        lineStr = fr.readline()\n",
    "        for j in range(32):\n",
    "            returnVect[0, 32*i+j] = int(lineStr[j])\n",
    "    return returnVect\n",
    "\n",
    "#训练集\n",
    "hwLabels = []                                       #测试集的Labels，后面用来比对计算错误率\n",
    "trainingFileList = listdir('trainingDigits')        #listdir()是返回目录下的文件名\n",
    "m = len(trainingFileList)                           #返回文件夹下文件的个数\n",
    "trainingMat = np.zeros((m, 1024))                   #初始化训练的Mat矩阵,测试集，就是批量处理\n",
    "for i in range(m):                                  #从文件名中解析出训练集的类别\n",
    "    fileNameStr = trainingFileList[i]               #获得文件的名字；是为了下一步获取每个文件的数字类别\n",
    "    classNumber = int(fileNameStr.split('_')[0])    #获得分类的数字；因为分隔后的第一个是代表类别的数字\n",
    "    hwLabels.append(classNumber)                    #将获得的类别添加到hwLabels中\n",
    "    trainingMat[i,:] = img2vector('trainingDigits/%s' % (fileNameStr))     #将每一个文件的1x1024数据存储到trainingMat矩阵中，trainingMat最后是m行1024列的矩阵\n",
    "\n",
    "#测试集   \n",
    "testFileList = listdir('testDigits')                #返回testDigits目录下的文件列表   同样也要对测试集进行相同的处理\n",
    "testLabels = [] \n",
    "mTest = len(testFileList)                           #测试数据的数量\n",
    "testMat = np.zeros((mTest, 1024)) \n",
    "for i in range(mTest):                              #从文件中解析出测试集的类别并进行分类测试  \n",
    "    fileNameStr = testFileList[i]                   #获得文件的名字\n",
    "    classNumber = int(fileNameStr.split('_')[0])    #获得分类的数字\n",
    "    testLabels.append(classNumber) \n",
    "    testMat[i,:] = img2vector('testDigits/%s' % (fileNameStr))     #获得测试集的1x1024向量,用于训练   \n",
    "    \n",
    "classifier = kNN(n_neighbors = 3).fit(trainingMat, hwLabels)\n",
    "classifier.score(testMat, testLabels)#准确率"
   ]
  },
  {
   "cell_type": "code",
   "execution_count": null,
   "metadata": {},
   "outputs": [],
   "source": []
  }
 ],
 "metadata": {
  "kernelspec": {
   "display_name": "Python 3",
   "language": "python",
   "name": "python3"
  },
  "language_info": {
   "codemirror_mode": {
    "name": "ipython",
    "version": 3
   },
   "file_extension": ".py",
   "mimetype": "text/x-python",
   "name": "python",
   "nbconvert_exporter": "python",
   "pygments_lexer": "ipython3",
   "version": "3.7.3"
  },
  "toc": {
   "base_numbering": 1,
   "nav_menu": {},
   "number_sections": true,
   "sideBar": true,
   "skip_h1_title": false,
   "title_cell": "Table of Contents",
   "title_sidebar": "Contents",
   "toc_cell": false,
   "toc_position": {},
   "toc_section_display": true,
   "toc_window_display": true
  }
 },
 "nbformat": 4,
 "nbformat_minor": 2
}
