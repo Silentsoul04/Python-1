{
 "cells": [
  {
   "cell_type": "code",
   "execution_count": 6,
   "metadata": {},
   "outputs": [
    {
     "name": "stdout",
     "output_type": "stream",
     "text": [
      "/Users/jason/Desktop\n",
      "输入文件夹的名字：clean\n"
     ]
    }
   ],
   "source": [
    "import os\n",
    "\n",
    "# 1.获取桌面路径\n",
    "desktop = os.path.join(os.path.expanduser(\"~\"),'Desktop')\n",
    "print(desktop)\n",
    "\n",
    "# 2.创建文件夹\n",
    "name = input('输入文件夹的名字：')\n",
    "\n",
    "clean = os.path.join(desktop,name)\n",
    "\n",
    "# 判断路径是否存在\n",
    "isExists = os.path.exists(clean) # True False\n",
    "\n",
    "if isExists == False:\n",
    "    os.mkdir(clean)\n",
    "    "
   ]
  },
  {
   "cell_type": "code",
   "execution_count": null,
   "metadata": {},
   "outputs": [],
   "source": []
  }
 ],
 "metadata": {
  "kernelspec": {
   "display_name": "Python 3",
   "language": "python",
   "name": "python3"
  },
  "language_info": {
   "codemirror_mode": {
    "name": "ipython",
    "version": 3
   },
   "file_extension": ".py",
   "mimetype": "text/x-python",
   "name": "python",
   "nbconvert_exporter": "python",
   "pygments_lexer": "ipython3",
   "version": "3.7.6"
  }
 },
 "nbformat": 4,
 "nbformat_minor": 4
}
